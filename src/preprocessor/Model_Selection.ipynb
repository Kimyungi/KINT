{
 "cells": [
  {
   "cell_type": "markdown",
   "metadata": {},
   "source": [
    "- Import package"
   ]
  },
  {
   "cell_type": "code",
   "execution_count": null,
   "metadata": {},
   "outputs": [],
   "source": [
    "from sklearn.model_selection import GridSearchCV, train_test_split\n",
    "from sklearn.pipeline import Pipeline\n",
    "from sklearn.preprocessing import StandardScaler, MinMaxScaler\n",
    "from sklearn.neighbors import KNeighborsClassifier\n",
    "from sklearn.linear_model import LogisticRegression\n",
    "from sklearn.tree import DecisionTreeClassifier\n",
    "from sklearn.ensemble import RandomForestClassifier\n",
    "from sklearn.compose import ColumnTransformer\n",
    "from xgboost import XGBClassifier\n",
    "import pandas as pd\n",
    "import numpy as np\n",
    "import sqlite3\n",
    "from imblearn.under_sampling import RandomUnderSampler\n",
    "from sklearn.metrics import f1_score, recall_score, accuracy_score, confusion_matrix\n",
    "from sklearn.feature_selection import RFE"
   ]
  },
  {
   "cell_type": "markdown",
   "metadata": {},
   "source": [
    "- Data load and Under sampling to avoid imbalanced problem"
   ]
  },
  {
   "cell_type": "code",
   "execution_count": null,
   "metadata": {},
   "outputs": [],
   "source": [
    "df = pd.read_excel('var.xlsx')\n",
    "x,y = RandomUnderSampler(random_state=0).fit_sample(df.iloc[:,3:],df.iloc[:,2])\n",
    "X_train, X_test, y_train, y_test = train_test_split(x, y, stratify=y)"
   ]
  },
  {
   "cell_type": "markdown",
   "metadata": {},
   "source": [
    "- KNN, Logistic\n",
    "    - 정규화를 하지 않는 편이 성능이 더 좋다."
   ]
  },
  {
   "cell_type": "code",
   "execution_count": null,
   "metadata": {},
   "outputs": [],
   "source": [
    "pipe1 = Pipeline([('mm',MinMaxScaler())])\n",
    "pipe2 = Pipeline([('ss',StandardScaler())])\n",
    "ct1 = ColumnTransformer([('mm', pipe1, ['left_branching_entropy','right_branching_entropy','left_accessor_variety','right_accessor_variety','leftside_frequency','rightside_frequency'])])\n",
    "ct2 = ColumnTransformer([('ss', pipe2, ['left_branching_entropy','right_branching_entropy','left_accessor_variety','right_accessor_variety','leftside_frequency','rightside_frequency'])])"
   ]
  },
  {
   "cell_type": "code",
   "execution_count": null,
   "metadata": {},
   "outputs": [],
   "source": [
    "pipe1 = Pipeline([('mm',MinMaxScaler())])\n",
    "pipe2 = Pipeline([('ss',StandardScaler())])\n",
    "ct1 = ColumnTransformer([('mm', pipe1, ['left_branching_entropy','right_branching_entropy','left_accessor_variety','right_accessor_variety','leftside_frequency','rightside_frequency'])])\n",
    "ct2 = ColumnTransformer([('ss', pipe2, ['left_branching_entropy','right_branching_entropy','left_accessor_variety','right_accessor_variety','leftside_frequency','rightside_frequency'])])\n",
    "final_pipe1 = Pipeline([('ct',ct1),('clf',KNeighborsClassifier())])\n",
    "final_pipe2 = Pipeline([('ct',ct2),('clf',KNeighborsClassifier())])\n",
    "ns_pipe = Pipeline([('clf',KNeighborsClassifier())])\n",
    "grid1 = GridSearchCV(final_pipe1, [{'clf':[KNeighborsClassifier()], 'clf__n_neighbors':range(2,8)},\n",
    "                          {'clf':[LogisticRegression()], 'clf__penalty':['l1','l2'],'clf__C':[0.1,1,10,100,1000], 'clf__solver':['liblinear','sag','saga','lbfgs']}])\n",
    "grid2 = GridSearchCV(final_pipe2, [{'clf':[KNeighborsClassifier()], 'clf__n_neighbors':range(2,8)},\n",
    "                          {'clf':[LogisticRegression()], 'clf__penalty':['l1','l2'],'clf__C':[0.1,1,10,100,1000], 'clf__solver':['liblinear','sag','saga','lbfgs']}])\n",
    "grid3 = GridSearchCV(ns_pipe, [{'clf':[KNeighborsClassifier()], 'clf__n_neighbors':range(2,8)},\n",
    "                          {'clf':[LogisticRegression()], 'clf__penalty':['l1','l2'],'clf__C':[0.1,1,10,100,1000], 'clf__solver':['liblinear','sag','saga','lbfgs']}])"
   ]
  },
  {
   "cell_type": "code",
   "execution_count": null,
   "metadata": {
    "scrolled": true
   },
   "outputs": [],
   "source": [
    "grid1.fit(x, y)\n",
    "temp1 = pd.DataFrame(grid1.cv_results_).T\n",
    "temp1.to_excel('mm_var.xlsx')\n",
    "grid2.fit(x, y)\n",
    "temp2 = pd.DataFrame(grid2.cv_results_).T\n",
    "temp2.to_excel('ss_var.xlsx')\n",
    "grid3.fit(x, y)\n",
    "temp3 = pd.DataFrame(grid3.cv_results_).T\n",
    "temp3.to_excel('ns_var.xlsx')"
   ]
  },
  {
   "cell_type": "code",
   "execution_count": null,
   "metadata": {},
   "outputs": [],
   "source": [
    "grid3.best_estimator_ # grid1.best_estimator_, grid2.best_estimator_"
   ]
  },
  {
   "cell_type": "code",
   "execution_count": null,
   "metadata": {},
   "outputs": [],
   "source": [
    "pipe = Pipeline(steps=[('clf', LogisticRegression(C=100, solver='liblinear'))])\n",
    "pipe.fit(X_train, y_train)"
   ]
  },
  {
   "cell_type": "code",
   "execution_count": null,
   "metadata": {
    "scrolled": true
   },
   "outputs": [],
   "source": [
    "y_pred = pipe.predict(X_test)\n",
    "f1_score(y_test,y_pred), recall_score(y_test, y_pred), accuracy_score(y_test, y_pred)"
   ]
  },
  {
   "cell_type": "code",
   "execution_count": null,
   "metadata": {},
   "outputs": [],
   "source": [
    "confusion_matrix(y_test,y_pred)"
   ]
  },
  {
   "cell_type": "code",
   "execution_count": null,
   "metadata": {},
   "outputs": [],
   "source": [
    "rfe = RFE(LogisticRegression(C=100, solver='liblinear'))\n",
    "rfe.fit(X_train, y_train)"
   ]
  },
  {
   "cell_type": "code",
   "execution_count": null,
   "metadata": {},
   "outputs": [],
   "source": [
    "y_pred = rfe.predict(X_test)\n",
    "f1_score(y_test,y_pred), recall_score(y_test, y_pred), accuracy_score(y_test, y_pred)"
   ]
  },
  {
   "cell_type": "code",
   "execution_count": null,
   "metadata": {},
   "outputs": [],
   "source": [
    "confusion_matrix(y_test,y_pred)"
   ]
  },
  {
   "cell_type": "markdown",
   "metadata": {},
   "source": [
    "- DecisionTree\n",
    "    - RFE를 쓰지 않는 편이 성능이 더 좋다."
   ]
  },
  {
   "cell_type": "code",
   "execution_count": null,
   "metadata": {},
   "outputs": [],
   "source": [
    "ns_pipe = Pipeline([('clf',DecisionTreeClassifier())])\n",
    "grid = GridSearchCV(ns_pipe, [{'clf':[DecisionTreeClassifier()], 'clf__criterion':['gini','entropy'], 'clf__max_depth':range(4,20), 'clf__min_samples_split':range(2,6), 'clf__min_samples_leaf':range(2,4), 'clf__random_state':[0,13]}])"
   ]
  },
  {
   "cell_type": "code",
   "execution_count": null,
   "metadata": {},
   "outputs": [],
   "source": [
    "grid.fit(x, y)"
   ]
  },
  {
   "cell_type": "code",
   "execution_count": null,
   "metadata": {
    "scrolled": true
   },
   "outputs": [],
   "source": [
    "grid.best_estimator_"
   ]
  },
  {
   "cell_type": "code",
   "execution_count": null,
   "metadata": {},
   "outputs": [],
   "source": [
    "pipe = Pipeline(steps=[('clf',\n",
    "                 DecisionTreeClassifier(max_depth=6, min_samples_leaf=2,\n",
    "                                        random_state=13))])\n",
    "pipe.fit(X_train, y_train)"
   ]
  },
  {
   "cell_type": "code",
   "execution_count": null,
   "metadata": {},
   "outputs": [],
   "source": [
    "y_pred = pipe.predict(X_test)\n",
    "f1_score(y_test,y_pred), recall_score(y_test, y_pred), accuracy_score(y_test, y_pred)"
   ]
  },
  {
   "cell_type": "code",
   "execution_count": null,
   "metadata": {},
   "outputs": [],
   "source": [
    "confusion_matrix(y_test,y_pred)"
   ]
  },
  {
   "cell_type": "code",
   "execution_count": null,
   "metadata": {},
   "outputs": [],
   "source": [
    "rfe = RFE(DecisionTreeClassifier(criterion='entropy', max_depth=5,\n",
    "                                        min_samples_leaf=2, random_state=0))\n",
    "rfe.fit(X_train, y_train)"
   ]
  },
  {
   "cell_type": "code",
   "execution_count": null,
   "metadata": {},
   "outputs": [],
   "source": [
    "y_pred = rfe.predict(X_test)\n",
    "f1_score(y_test,y_pred), recall_score(y_test, y_pred), accuracy_score(y_test, y_pred)"
   ]
  },
  {
   "cell_type": "code",
   "execution_count": null,
   "metadata": {},
   "outputs": [],
   "source": [
    "confusion_matrix(y_test,y_pred)"
   ]
  },
  {
   "cell_type": "code",
   "execution_count": null,
   "metadata": {
    "scrolled": false
   },
   "outputs": [],
   "source": [
    "from sklearn.model_selection import learning_curve\n",
    "import sklearn_evaluation\n",
    "from sklearn.model_selection import KFold\n",
    "kfold = KFold(n_splits=10, shuffle=True, random_state=0)\n",
    "train_size, train_score, test_score = learning_curve(DecisionTreeClassifier(criterion='entropy', max_depth=5,\n",
    "                                        min_samples_leaf=2, random_state=0), x, y, cv = kfold)\n",
    "sklearn_evaluation.plot.learning_curve(train_score, test_score, train_size)"
   ]
  },
  {
   "cell_type": "markdown",
   "metadata": {},
   "source": [
    "- RandomForest"
   ]
  },
  {
   "cell_type": "code",
   "execution_count": null,
   "metadata": {},
   "outputs": [],
   "source": [
    "ns_pipe = Pipeline([('clf',RandomForestClassifier())])\n",
    "grid = GridSearchCV(ns_pipe, [{'clf':[RandomForestClassifier()], 'clf__n_estimators':[100,200,300], 'clf__max_depth':[3,5,7,9], 'clf__min_samples_leaf':[2,3,5,7,9], 'clf__min_samples_split':[3,5,7,9], 'clf__random_state':[0,13]}])"
   ]
  },
  {
   "cell_type": "code",
   "execution_count": null,
   "metadata": {},
   "outputs": [],
   "source": [
    "grid.fit(x, y)"
   ]
  },
  {
   "cell_type": "code",
   "execution_count": null,
   "metadata": {},
   "outputs": [],
   "source": [
    "grid.best_estimator_"
   ]
  },
  {
   "cell_type": "code",
   "execution_count": null,
   "metadata": {},
   "outputs": [],
   "source": [
    "pipe = Pipeline(steps=[('clf',\n",
    "                 RandomForestClassifier(max_depth=9, min_samples_leaf=2,\n",
    "                                        min_samples_split=9, n_estimators=300,\n",
    "                                        random_state=0))])\n",
    "pipe.fit(X_train,y_train)"
   ]
  },
  {
   "cell_type": "code",
   "execution_count": null,
   "metadata": {},
   "outputs": [],
   "source": [
    "y_pred = pipe.predict(X_test)\n",
    "f1_score(y_test,y_pred), recall_score(y_test, y_pred), accuracy_score(y_test, y_pred)"
   ]
  },
  {
   "cell_type": "code",
   "execution_count": null,
   "metadata": {},
   "outputs": [],
   "source": [
    "confusion_matrix(y_test, y_pred)"
   ]
  },
  {
   "cell_type": "code",
   "execution_count": null,
   "metadata": {},
   "outputs": [],
   "source": [
    "rfe = RFE(RandomForestClassifier(max_depth=9, min_samples_leaf=2,\n",
    "                                        min_samples_split=9, n_estimators=300,\n",
    "                                        random_state=0))\n",
    "rfe.fit(X_train, y_train)"
   ]
  },
  {
   "cell_type": "code",
   "execution_count": null,
   "metadata": {},
   "outputs": [],
   "source": [
    "y_pred = rfe.predict(X_test)\n",
    "f1_score(y_test,y_pred), recall_score(y_test, y_pred), accuracy_score(y_test, y_pred)"
   ]
  },
  {
   "cell_type": "code",
   "execution_count": null,
   "metadata": {},
   "outputs": [],
   "source": [
    "confusion_matrix(y_test, y_pred)"
   ]
  },
  {
   "cell_type": "code",
   "execution_count": null,
   "metadata": {
    "scrolled": false
   },
   "outputs": [],
   "source": [
    "from sklearn.model_selection import learning_curve\n",
    "import sklearn_evaluation\n",
    "from sklearn.model_selection import KFold\n",
    "kfold = KFold(n_splits=10, shuffle=True, random_state=0)\n",
    "train_size, train_score, test_score = learning_curve(RandomForestClassifier(max_depth=9, min_samples_leaf=2,\n",
    "                                        min_samples_split=9, n_estimators=300,\n",
    "                                        random_state=0), x, y, cv = kfold)\n",
    "sklearn_evaluation.plot.learning_curve(train_score, test_score, train_size)"
   ]
  },
  {
   "cell_type": "markdown",
   "metadata": {},
   "source": [
    "- XGBoosting"
   ]
  },
  {
   "cell_type": "code",
   "execution_count": null,
   "metadata": {},
   "outputs": [],
   "source": [
    "ns_pipe = Pipeline([('clf',XGBClassifier())])\n",
    "grid = GridSearchCV(ns_pipe, [{'clf':[XGBClassifier()], 'clf__max_depth':[3,5,7,9],'clf__n_estimators':[100,500,1000], 'clf__learning_rate':[0.05,0.1,0.15,0.2], 'clf__booster':['gbtree','gblinear'], 'clf__subsample':[0.6,0.8,1.0], 'clf__random_state':[0,13]}])"
   ]
  },
  {
   "cell_type": "code",
   "execution_count": null,
   "metadata": {},
   "outputs": [],
   "source": [
    "grid.fit(x, y)"
   ]
  },
  {
   "cell_type": "code",
   "execution_count": null,
   "metadata": {},
   "outputs": [],
   "source": [
    "grid.best_estimator_"
   ]
  },
  {
   "cell_type": "code",
   "execution_count": null,
   "metadata": {},
   "outputs": [],
   "source": [
    "pipe = Pipeline(memory=None,\n",
    "         steps=[('clf',\n",
    "                 XGBClassifier(base_score=0.5, booster='gbtree',\n",
    "                               colsample_bylevel=1, colsample_bynode=1,\n",
    "                               colsample_bytree=1, gamma=0,\n",
    "                               importance_type='gain',\n",
    "                               interaction_constraints='', learning_rate=0.05,\n",
    "                               max_delta_step=0, max_depth=5,\n",
    "                               min_child_weight=1, n_estimators=100,\n",
    "                               n_jobs=0, num_parallel_tree=1, random_state=0,\n",
    "                               reg_alpha=0, reg_lambda=1, scale_pos_weight=1,\n",
    "                               subsample=0.6, tree_method='exact',\n",
    "                               validate_parameters=1))],\n",
    "         verbose=False)\n",
    "pipe.fit(X_train, y_train)"
   ]
  },
  {
   "cell_type": "code",
   "execution_count": null,
   "metadata": {},
   "outputs": [],
   "source": [
    "y_pred = pipe.predict(X_test)\n",
    "f1_score(y_test,y_pred), recall_score(y_test, y_pred), accuracy_score(y_test, y_pred)"
   ]
  },
  {
   "cell_type": "code",
   "execution_count": null,
   "metadata": {},
   "outputs": [],
   "source": [
    "confusion_matrix(y_test, y_pred)"
   ]
  },
  {
   "cell_type": "code",
   "execution_count": null,
   "metadata": {},
   "outputs": [],
   "source": [
    "rfe = RFE(XGBClassifier(base_score=0.5, booster='gbtree',\n",
    "                               colsample_bylevel=1, colsample_bynode=1,\n",
    "                               colsample_bytree=1, gamma=0,\n",
    "                               importance_type='gain',\n",
    "                               interaction_constraints='', learning_rate=0.05,\n",
    "                               max_delta_step=0, max_depth=5,\n",
    "                               min_child_weight=1, n_estimators=100,\n",
    "                               n_jobs=0, num_parallel_tree=1, random_state=0,\n",
    "                               reg_alpha=0, reg_lambda=1, scale_pos_weight=1,\n",
    "                               subsample=0.6, tree_method='exact',\n",
    "                               validate_parameters=1))\n",
    "rfe.fit(X_train, y_train)"
   ]
  },
  {
   "cell_type": "code",
   "execution_count": null,
   "metadata": {},
   "outputs": [],
   "source": [
    "y_pred = rfe.predict(X_test)\n",
    "f1_score(y_test,y_pred), recall_score(y_test, y_pred), accuracy_score(y_test, y_pred)"
   ]
  },
  {
   "cell_type": "code",
   "execution_count": null,
   "metadata": {},
   "outputs": [],
   "source": [
    "confusion_matrix(y_test, y_pred)"
   ]
  },
  {
   "cell_type": "code",
   "execution_count": null,
   "metadata": {
    "scrolled": false
   },
   "outputs": [],
   "source": [
    "from sklearn.model_selection import learning_curve\n",
    "import sklearn_evaluation\n",
    "from sklearn.model_selection import KFold\n",
    "kfold = KFold(n_splits=10, shuffle=True, random_state=0)\n",
    "train_size, train_score, test_score = learning_curve(XGBClassifier(base_score=0.5, booster='gbtree',\n",
    "                               colsample_bylevel=1, colsample_bynode=1,\n",
    "                               colsample_bytree=1, gamma=0,\n",
    "                               importance_type='gain',\n",
    "                               interaction_constraints='', learning_rate=0.05,\n",
    "                               max_delta_step=0, max_depth=5,\n",
    "                               min_child_weight=1, n_estimators=100,\n",
    "                               n_jobs=0, num_parallel_tree=1, random_state=0,\n",
    "                               reg_alpha=0, reg_lambda=1, scale_pos_weight=1,\n",
    "                               subsample=0.6, tree_method='exact',\n",
    "                               validate_parameters=1), x, y, cv = kfold)\n",
    "sklearn_evaluation.plot.learning_curve(train_score, test_score, train_size)"
   ]
  }
 ],
 "metadata": {
  "kernelspec": {
   "display_name": "Python 3",
   "language": "python",
   "name": "python3"
  },
  "language_info": {
   "codemirror_mode": {
    "name": "ipython",
    "version": 3
   },
   "file_extension": ".py",
   "mimetype": "text/x-python",
   "name": "python",
   "nbconvert_exporter": "python",
   "pygments_lexer": "ipython3",
   "version": "3.7.6"
  }
 },
 "nbformat": 4,
 "nbformat_minor": 4
}
