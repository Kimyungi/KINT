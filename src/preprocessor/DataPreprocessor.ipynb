{
 "cells": [
  {
   "cell_type": "code",
   "execution_count": 2,
   "metadata": {},
   "outputs": [],
   "source": [
    "import Extractor\n",
    "import pandas as pd\n",
    "import sqlite3\n",
    "\n",
    "conn1 = sqlite3.connect('Humor.db')\n",
    "cur1 = conn1.cursor()\n",
    "df1 = pd.read_sql('SELECT * FROM head ORDER BY wdate DESC',conn1)\n",
    "conn1.close()\n",
    "\n",
    "conn2 = sqlite3.connect('Politic.db')\n",
    "cur2 = conn2.cursor()\n",
    "df2 = pd.read_sql('SELECT * FROM head ORDER BY wdate DESC',conn2)\n",
    "conn2.close()\n",
    "\n",
    "df = df1.append(df2) # 엔터테인먼트는 여기서 분할해서 저장해야함.\n",
    "\n",
    "df['pk'] = range(1, len(df)+1)\n",
    "\n",
    "conn3 = sqlite3.connect('HP.db')\n",
    "cur3 = conn3.cursor()\n",
    "cur3.executescript('''\n",
    "            DROP TABLE IF EXISTS head;\n",
    "            CREATE TABLE head(\n",
    "                pk INTEGER PRIMARY KEY AUTOINCREMENT NOT NULL,\n",
    "                head TEXT NOT NULL,\n",
    "                wdate TEXT NOT NULL,\n",
    "                cdate TEXT NOT NULL,\n",
    "                ref INTEGER NOT NULL,\n",
    "                page INTEGER NOT NULL\n",
    "            );\n",
    "        ''')\n",
    "df.to_sql('head', conn3, if_exists='append', index=False)\n",
    "conn3.close()"
   ]
  },
  {
   "cell_type": "code",
   "execution_count": null,
   "metadata": {
    "scrolled": true
   },
   "outputs": [
    {
     "name": "stdout",
     "output_type": "stream",
     "text": [
      "[Noun Extractor] use default predictors\n",
      "[Noun Extractor] num features: pos=3929, neg=2321, common=107\n",
      "[Noun Extractor] counting eojeols\n",
      "[EojeolCounter] n eojeol = 1410442 from 1832364 sents. mem=0.865 Gb                    \n"
     ]
    }
   ],
   "source": [
    "import Extractor\n",
    "import pandas as pd\n",
    "import sqlite3\n",
    "\n",
    "conn = sqlite3.connect('HP.db')\n",
    "cur = conn.cursor()\n",
    "df = pd.read_sql('SELECT head FROM head ORDER BY wdate DESC',conn)\n",
    "conn.close()\n",
    "df.drop_duplicates(keep='first', inplace=True)\n",
    "ext = Extractor.Ext(df)\n",
    "df = ext.cleaning()\n",
    "\n",
    "new_words = ext.search_dict(sorted(ext.extract_nouns().items(),key=lambda _:_[1], reverse=True))\n",
    "sent = ext.extract_sent(new_words)\n",
    "\n",
    "# 변수 생성\n",
    "statistic = ext.extract_statistic_value(sent)\n",
    "r_rat = ext.extract_r_rat(sent,statistic)\n",
    "statistic = ext.combine_var(statistic, r_rat)\n",
    "conn = sqlite3.connect('HP_var.db')\n",
    "statistic.to_sql('var', conn)"
   ]
  }
 ],
 "metadata": {
  "kernelspec": {
   "display_name": "Python 3",
   "language": "python",
   "name": "python3"
  },
  "language_info": {
   "codemirror_mode": {
    "name": "ipython",
    "version": 3
   },
   "file_extension": ".py",
   "mimetype": "text/x-python",
   "name": "python",
   "nbconvert_exporter": "python",
   "pygments_lexer": "ipython3",
   "version": "3.8.3"
  }
 },
 "nbformat": 4,
 "nbformat_minor": 4
}
