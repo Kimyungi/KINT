{
 "cells": [
  {
   "cell_type": "markdown",
   "metadata": {},
   "source": [
    "- Extraction of Sentence"
   ]
  },
  {
   "cell_type": "code",
   "execution_count": null,
   "metadata": {},
   "outputs": [],
   "source": [
    "import pandas as pd\n",
    "import Sentiment\n",
    "import sqlite3\n",
    "# 신조어 목록 불러오기\n",
    "df = pd.read_excel('new_words_var.xlsx')\n",
    "new_words = df[df.y == 1].iloc[:,1].drop_duplicates(keep='first')\n",
    "\n",
    "# 전체 데이터 합치기\n",
    "conn = sqlite3.connect('Total_Ent.db')\n",
    "df1 = pd.read_sql('SELECT head FROM head', conn)\n",
    "conn.close()\n",
    "conn = sqlite3.connect('HP.db')\n",
    "df2 = pd.read_sql('SELECT head FROM head', conn)\n",
    "conn.close()\n",
    "head = df1.append(df2)\n",
    "\n",
    "# sentence 추출\n",
    "analysis = Sentiment.Sentiment()\n",
    "sent = analysis.extract_sent(head, new_words)\n",
    "sent = pd.DataFrame.from_dict(sent, orient='index')\n",
    "conn = sqlite3.connect('sent.db')\n",
    "sent.to_sql('sent', conn)"
   ]
  },
  {
   "cell_type": "markdown",
   "metadata": {},
   "source": [
    "- Update Sentiment Dictionary and Extraction of Sentiment Score"
   ]
  },
  {
   "cell_type": "code",
   "execution_count": null,
   "metadata": {
    "scrolled": true
   },
   "outputs": [],
   "source": [
    "import Sentiment\n",
    "from tqdm.notebook import tqdm\n",
    "import sqlite3\n",
    "import pandas as pd\n",
    "\n",
    "# Initialize\n",
    "analysis = Sentiment.Sentiment()\n",
    "conn = sqlite3.connect('sent.db')\n",
    "sent = pd.read_sql('SELECT * FROM sent', conn)\n",
    "mapping_most_related = analysis.cal_score(sent)\n",
    "\n",
    "positive = []\n",
    "negative = []\n",
    "for _ in tqdm(range(10)):\n",
    "    # 일정 (단어-감성score) set을 사용하여, 감성사전 score 업데이트 (학습과정)\n",
    "    sentiment_result = pd.read_excel('sentiment_result.xlsx')\n",
    "    positive, negative = analysis.update_score(positive, negative, sentiment_result) # 감성사전 score 업데이트\n",
    "    \n",
    "    # 감성사전을 이용하여 감성분석을 진행\n",
    "    sentiment = pd.read_excel('sentiment.xlsx')\n",
    "    analysis.sentiment_analysis(sentiment, mapping_most_related)"
   ]
  },
  {
   "cell_type": "markdown",
   "metadata": {},
   "source": [
    "- Extract of keywords"
   ]
  },
  {
   "cell_type": "code",
   "execution_count": 1,
   "metadata": {},
   "outputs": [],
   "source": [
    "import Sentiment\n",
    "from tqdm.notebook import tqdm\n",
    "import sqlite3\n",
    "import pandas as pd\n",
    "\n",
    "# Initialize\n",
    "analysis = Sentiment.Sentiment()\n",
    "conn = sqlite3.connect('sent.db')\n",
    "sent = pd.read_sql('SELECT * FROM sent', conn)"
   ]
  },
  {
   "cell_type": "code",
   "execution_count": null,
   "metadata": {},
   "outputs": [],
   "source": [
    "# keyword 추출\n",
    "from collections import defaultdict\n",
    "length = list(range(len(sent)))\n",
    "length.pop(-1)\n",
    "temp = defaultdict(lambda:0)\n",
    "for _ in length:\n",
    "    words = {sent[_]['index']:1.0}\n",
    "    keywords, relateds = analysis.most_similar(sent[_]['index'], sent[_]['0'], words)\n",
    "    temp[sent[_]['index']] = (keywords, relateds)\n",
    "pd.DataFrame.from_dict(temp).to_excel('keyword.xlsx')"
   ]
  }
 ],
 "metadata": {
  "kernelspec": {
   "display_name": "Python 3",
   "language": "python",
   "name": "python3"
  },
  "language_info": {
   "codemirror_mode": {
    "name": "ipython",
    "version": 3
   },
   "file_extension": ".py",
   "mimetype": "text/x-python",
   "name": "python",
   "nbconvert_exporter": "python",
   "pygments_lexer": "ipython3",
   "version": "3.7.6"
  }
 },
 "nbformat": 4,
 "nbformat_minor": 4
}
