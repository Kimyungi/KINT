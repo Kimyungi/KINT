{
 "cells": [
  {
   "cell_type": "markdown",
   "metadata": {},
   "source": [
    "- Extract wdate and reference"
   ]
  },
  {
   "cell_type": "code",
   "execution_count": null,
   "metadata": {},
   "outputs": [],
   "source": [
    "import sqlite3\n",
    "import pandas as pd\n",
    "conn = sqlite3.connect('News.db')\n",
    "head = pd.read_sql('SELECT * FROM head', conn)\n",
    "conn.close()"
   ]
  },
  {
   "cell_type": "code",
   "execution_count": null,
   "metadata": {},
   "outputs": [],
   "source": [
    "df = pd.read_excel('News_var.xlsx')\n",
    "words = df[df.y == 1].iloc[:,1].drop_duplicates(keep='first') # 신어에 해당하는 것 가져오기\n",
    "df = head"
   ]
  },
  {
   "cell_type": "code",
   "execution_count": null,
   "metadata": {},
   "outputs": [],
   "source": [
    "import re\n",
    "from string import punctuation\n",
    "\n",
    "# Stopwords 처리\n",
    "pattern1 = re.compile(r'[{}]'.format(re.escape(punctuation)))  # punctuation 제거\n",
    "pattern2 = re.compile(r'[^가-힣 ]')  # 특수문자, 자음, 모음, 숫자, 영어 제거\n",
    "pattern3 = re.compile(r'\\s{2,}')  # white space 1개로 바꾸기.\n",
    "\n",
    "df['head'] = df['head'].map(lambda x: pattern3.sub(' ',\n",
    "                                                       pattern2.sub('',\n",
    "                                                                    pattern1.sub('', x))))"
   ]
  },
  {
   "cell_type": "code",
   "execution_count": null,
   "metadata": {
    "scrolled": false
   },
   "outputs": [],
   "source": [
    "from collections import defaultdict\n",
    "from tqdm import tqdm_notebook\n",
    "\n",
    "# index length 만들기\n",
    "length = list(range(len(df)))\n",
    "length.pop(-1)\n",
    "length = length[-1]\n",
    "\n",
    "# 날짜와 reference 가져오기\n",
    "sent = {w:[(df.iloc[_]['wdate'], df.iloc[_]['ref']) for _ in range(length) if w in df.iloc[_]['head']] for w in tqdm_notebook(words)}\n",
    "# Excel에 저장\n",
    "pd.DataFrame.from_dict(sent, orient='index').to_excel('wdate.xlsx')"
   ]
  },
  {
   "cell_type": "markdown",
   "metadata": {},
   "source": [
    "- Clear Up Data"
   ]
  },
  {
   "cell_type": "code",
   "execution_count": null,
   "metadata": {},
   "outputs": [],
   "source": [
    "# Data 원하는 형태로 가져오기\n",
    "import ast\n",
    "temp = pd.read_excel('wdate.xlsx', index_col='Unnamed: 0')\n",
    "temp = temp.T.to_dict('list')\n",
    "temp = {k:[ast.literal_eval(_) for _ in v if type(_) is str] for k,v in temp.items()}"
   ]
  },
  {
   "cell_type": "code",
   "execution_count": null,
   "metadata": {},
   "outputs": [],
   "source": [
    "# date별, ref별로 dict 만들기\n",
    "date = defaultdict(lambda:0)\n",
    "ref = defaultdict(lambda:0)\n",
    "for k, v in temp.items():\n",
    "    dtemp = defaultdict(lambda:0)\n",
    "    rtemp = defaultdict(lambda:0)\n",
    "    for _ in v:\n",
    "        if re.search(r'\\d+[.]\\d+',_[0]):\n",
    "            dtemp[re.sub(r'[.]', r'-', re.search(r'\\d+[.]\\d+','2020.07').group())] += 1 # format 통일\n",
    "        else:\n",
    "            dtemp[re.search(r'\\d+[-]\\d+',_[0]).group()] += 1\n",
    "        rtemp[_[1]] += 1\n",
    "    date[k] = dtemp\n",
    "    ref[k] = rtemp"
   ]
  },
  {
   "cell_type": "code",
   "execution_count": null,
   "metadata": {},
   "outputs": [],
   "source": [
    "# nan 값이 있으면 sum이 무조건 nan으로 처리되는 것을 피하기 위해서 overriding\n",
    "def sum(data):\n",
    "    sum = 0\n",
    "    for _ in data:\n",
    "        if not math.isnan(_):\n",
    "            sum += _\n",
    "    return sum"
   ]
  },
  {
   "cell_type": "code",
   "execution_count": null,
   "metadata": {},
   "outputs": [],
   "source": [
    "# ref별 비율 구하기\n",
    "ref = pd.DataFrame.from_dict(ref, orient='index')\n",
    "total_ref = defaultdict(lambda:0)\n",
    "for _ in head['ref']:\n",
    "    total_ref[_] += 1\n",
    "    \n",
    "for _ in ref:\n",
    "    ref[_] = ref[_]/total_ref[_] # 각 빈도를 전체 수집 데이터로 나눈다.\n",
    "    \n",
    "for _ in ref.index:\n",
    "    ref.loc[_] = ref.loc[_]/sum(ref.loc[_]) # 전체를 1로 맞추고, 각 비율을 구한다."
   ]
  },
  {
   "cell_type": "code",
   "execution_count": null,
   "metadata": {},
   "outputs": [],
   "source": [
    "pd.DataFrame.from_dict(date, orient='index').iloc[:,:13].to_excel('News_date.xlsx') # 1년치만 가져온다.\n",
    "ref.to_excel('News_ref.xlsx')"
   ]
  }
 ],
 "metadata": {
  "kernelspec": {
   "display_name": "Python 3",
   "language": "python",
   "name": "python3"
  },
  "language_info": {
   "codemirror_mode": {
    "name": "ipython",
    "version": 3
   },
   "file_extension": ".py",
   "mimetype": "text/x-python",
   "name": "python",
   "nbconvert_exporter": "python",
   "pygments_lexer": "ipython3",
   "version": "3.7.6"
  }
 },
 "nbformat": 4,
 "nbformat_minor": 4
}
