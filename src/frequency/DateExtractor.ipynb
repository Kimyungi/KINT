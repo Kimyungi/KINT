{
 "cells": [
  {
   "cell_type": "markdown",
   "metadata": {},
   "source": [
    "- Extract wdate and reference"
   ]
  },
  {
   "cell_type": "code",
   "execution_count": 1,
   "metadata": {},
   "outputs": [],
   "source": [
    "import sqlite3\n",
    "import pandas as pd\n",
    "conn = sqlite3.connect('Total_Ent.db')\n",
    "df1 = pd.read_sql('SELECT * FROM head', conn)\n",
    "conn.close()\n",
    "conn = sqlite3.connect('HP.db')\n",
    "df2 = pd.read_sql('SELECT * FROM head', conn)\n",
    "conn.close()\n",
    "head = df1.append(df2)"
   ]
  },
  {
   "cell_type": "code",
   "execution_count": 2,
   "metadata": {},
   "outputs": [],
   "source": [
    "df = pd.read_excel('KINT_var.xlsx')\n",
    "words = df[df.y == 1].iloc[:,1].drop_duplicates(keep='first') # 신어에 해당하는 것 가져오기\n",
    "df = head"
   ]
  },
  {
   "cell_type": "code",
   "execution_count": 3,
   "metadata": {},
   "outputs": [],
   "source": [
    "import re\n",
    "from string import punctuation\n",
    "\n",
    "# Stopwords 처리\n",
    "pattern1 = re.compile(r'[{}]'.format(re.escape(punctuation)))  # punctuation 제거\n",
    "pattern2 = re.compile(r'[^가-힣 ]')  # 특수문자, 자음, 모음, 숫자, 영어 제거\n",
    "pattern3 = re.compile(r'\\s{2,}')  # white space 1개로 바꾸기.\n",
    "\n",
    "df['head'] = df['head'].map(lambda x: pattern3.sub(' ',\n",
    "                                                       pattern2.sub('',\n",
    "                                                                    pattern1.sub('', x))))"
   ]
  },
  {
   "cell_type": "code",
   "execution_count": 6,
   "metadata": {},
   "outputs": [],
   "source": [
    "temp = pd.concat([pd.Series(v,name=k) for k,v in sent.items()], axis=1)\n",
    "temp.to_excel('word3_1.xlsx')"
   ]
  },
  {
   "cell_type": "code",
   "execution_count": 4,
   "metadata": {},
   "outputs": [],
   "source": [
    "word3 = words.iloc[200:220]"
   ]
  },
  {
   "cell_type": "code",
   "execution_count": 5,
   "metadata": {
    "scrolled": true
   },
   "outputs": [
    {
     "name": "stderr",
     "output_type": "stream",
     "text": [
      "C:\\Users\\gozj3\\anaconda3\\lib\\site-packages\\ipykernel_launcher.py:5: TqdmDeprecationWarning: This function will be removed in tqdm==5.0.0\n",
      "Please use `tqdm.notebook.tqdm` instead of `tqdm.tqdm_notebook`\n",
      "  \"\"\"\n"
     ]
    },
    {
     "data": {
      "application/vnd.jupyter.widget-view+json": {
       "model_id": "4b958e1fcc7940ec90b74fd044ea7912",
       "version_major": 2,
       "version_minor": 0
      },
      "text/plain": [
       "HBox(children=(FloatProgress(value=0.0, max=20.0), HTML(value='')))"
      ]
     },
     "metadata": {},
     "output_type": "display_data"
    },
    {
     "name": "stdout",
     "output_type": "stream",
     "text": [
      "\n"
     ]
    },
    {
     "ename": "ValueError",
     "evalue": "This sheet is too large! Your sheet size is: 20, 18814 Max sheet size is: 1048576, 16384",
     "output_type": "error",
     "traceback": [
      "\u001b[1;31m---------------------------------------------------------------------------\u001b[0m",
      "\u001b[1;31mValueError\u001b[0m                                Traceback (most recent call last)",
      "\u001b[1;32m<ipython-input-5-44b3eca04611>\u001b[0m in \u001b[0;36m<module>\u001b[1;34m\u001b[0m\n\u001b[0;32m      5\u001b[0m \u001b[0msent\u001b[0m \u001b[1;33m=\u001b[0m \u001b[1;33m{\u001b[0m\u001b[0mw\u001b[0m\u001b[1;33m:\u001b[0m\u001b[1;33m[\u001b[0m\u001b[1;33m(\u001b[0m\u001b[0mdf\u001b[0m\u001b[1;33m.\u001b[0m\u001b[0miloc\u001b[0m\u001b[1;33m[\u001b[0m\u001b[0m_\u001b[0m\u001b[1;33m]\u001b[0m\u001b[1;33m[\u001b[0m\u001b[1;34m'wdate'\u001b[0m\u001b[1;33m]\u001b[0m\u001b[1;33m,\u001b[0m \u001b[0mdf\u001b[0m\u001b[1;33m.\u001b[0m\u001b[0miloc\u001b[0m\u001b[1;33m[\u001b[0m\u001b[0m_\u001b[0m\u001b[1;33m]\u001b[0m\u001b[1;33m[\u001b[0m\u001b[1;34m'ref'\u001b[0m\u001b[1;33m]\u001b[0m\u001b[1;33m)\u001b[0m \u001b[1;32mfor\u001b[0m \u001b[0m_\u001b[0m \u001b[1;32min\u001b[0m \u001b[0mrange\u001b[0m\u001b[1;33m(\u001b[0m\u001b[0mlen\u001b[0m\u001b[1;33m(\u001b[0m\u001b[0mdf\u001b[0m\u001b[1;33m)\u001b[0m\u001b[1;33m)\u001b[0m \u001b[1;32mif\u001b[0m \u001b[0mw\u001b[0m \u001b[1;32min\u001b[0m \u001b[0mdf\u001b[0m\u001b[1;33m.\u001b[0m\u001b[0miloc\u001b[0m\u001b[1;33m[\u001b[0m\u001b[0m_\u001b[0m\u001b[1;33m]\u001b[0m\u001b[1;33m[\u001b[0m\u001b[1;34m'head'\u001b[0m\u001b[1;33m]\u001b[0m\u001b[1;33m]\u001b[0m \u001b[1;32mfor\u001b[0m \u001b[0mw\u001b[0m \u001b[1;32min\u001b[0m \u001b[0mtqdm_notebook\u001b[0m\u001b[1;33m(\u001b[0m\u001b[0mword3\u001b[0m\u001b[1;33m)\u001b[0m\u001b[1;33m}\u001b[0m\u001b[1;33m\u001b[0m\u001b[1;33m\u001b[0m\u001b[0m\n\u001b[0;32m      6\u001b[0m \u001b[1;31m# Excel에 저장\u001b[0m\u001b[1;33m\u001b[0m\u001b[1;33m\u001b[0m\u001b[1;33m\u001b[0m\u001b[0m\n\u001b[1;32m----> 7\u001b[1;33m \u001b[0mpd\u001b[0m\u001b[1;33m.\u001b[0m\u001b[0mDataFrame\u001b[0m\u001b[1;33m.\u001b[0m\u001b[0mfrom_dict\u001b[0m\u001b[1;33m(\u001b[0m\u001b[0msent\u001b[0m\u001b[1;33m,\u001b[0m \u001b[0morient\u001b[0m\u001b[1;33m=\u001b[0m\u001b[1;34m'index'\u001b[0m\u001b[1;33m)\u001b[0m\u001b[1;33m.\u001b[0m\u001b[0mto_excel\u001b[0m\u001b[1;33m(\u001b[0m\u001b[1;34m'word3_1.xlsx'\u001b[0m\u001b[1;33m)\u001b[0m\u001b[1;33m\u001b[0m\u001b[1;33m\u001b[0m\u001b[0m\n\u001b[0m",
      "\u001b[1;32m~\\AppData\\Roaming\\Python\\Python37\\site-packages\\pandas\\core\\generic.py\u001b[0m in \u001b[0;36mto_excel\u001b[1;34m(self, excel_writer, sheet_name, na_rep, float_format, columns, header, index, index_label, startrow, startcol, engine, merge_cells, encoding, inf_rep, verbose, freeze_panes)\u001b[0m\n\u001b[0;32m   2027\u001b[0m             \u001b[0mstartcol\u001b[0m\u001b[1;33m=\u001b[0m\u001b[0mstartcol\u001b[0m\u001b[1;33m,\u001b[0m\u001b[1;33m\u001b[0m\u001b[1;33m\u001b[0m\u001b[0m\n\u001b[0;32m   2028\u001b[0m             \u001b[0mfreeze_panes\u001b[0m\u001b[1;33m=\u001b[0m\u001b[0mfreeze_panes\u001b[0m\u001b[1;33m,\u001b[0m\u001b[1;33m\u001b[0m\u001b[1;33m\u001b[0m\u001b[0m\n\u001b[1;32m-> 2029\u001b[1;33m             \u001b[0mengine\u001b[0m\u001b[1;33m=\u001b[0m\u001b[0mengine\u001b[0m\u001b[1;33m,\u001b[0m\u001b[1;33m\u001b[0m\u001b[1;33m\u001b[0m\u001b[0m\n\u001b[0m\u001b[0;32m   2030\u001b[0m         )\n\u001b[0;32m   2031\u001b[0m \u001b[1;33m\u001b[0m\u001b[0m\n",
      "\u001b[1;32m~\\AppData\\Roaming\\Python\\Python37\\site-packages\\pandas\\io\\formats\\excel.py\u001b[0m in \u001b[0;36mwrite\u001b[1;34m(self, writer, sheet_name, startrow, startcol, freeze_panes, engine)\u001b[0m\n\u001b[0;32m    721\u001b[0m         \u001b[1;32mif\u001b[0m \u001b[0mnum_rows\u001b[0m \u001b[1;33m>\u001b[0m \u001b[0mself\u001b[0m\u001b[1;33m.\u001b[0m\u001b[0mmax_rows\u001b[0m \u001b[1;32mor\u001b[0m \u001b[0mnum_cols\u001b[0m \u001b[1;33m>\u001b[0m \u001b[0mself\u001b[0m\u001b[1;33m.\u001b[0m\u001b[0mmax_cols\u001b[0m\u001b[1;33m:\u001b[0m\u001b[1;33m\u001b[0m\u001b[1;33m\u001b[0m\u001b[0m\n\u001b[0;32m    722\u001b[0m             raise ValueError(\n\u001b[1;32m--> 723\u001b[1;33m                 \u001b[1;34mf\"This sheet is too large! Your sheet size is: {num_rows}, {num_cols} \"\u001b[0m\u001b[1;33m\u001b[0m\u001b[1;33m\u001b[0m\u001b[0m\n\u001b[0m\u001b[0;32m    724\u001b[0m                 \u001b[1;34mf\"Max sheet size is: {self.max_rows}, {self.max_cols}\"\u001b[0m\u001b[1;33m\u001b[0m\u001b[1;33m\u001b[0m\u001b[0m\n\u001b[0;32m    725\u001b[0m             )\n",
      "\u001b[1;31mValueError\u001b[0m: This sheet is too large! Your sheet size is: 20, 18814 Max sheet size is: 1048576, 16384"
     ]
    }
   ],
   "source": [
    "from collections import defaultdict\n",
    "from tqdm import tqdm_notebook\n",
    "\n",
    "# 날짜와 reference 가져오기\n",
    "sent = {w:[(df.iloc[_]['wdate'], df.iloc[_]['ref']) for _ in range(len(df)) if w in df.iloc[_]['head']] for w in tqdm_notebook(word3)}\n",
    "# Excel에 저장\n",
    "pd.DataFrame.from_dict(sent, orient='index').to_excel('word3_1.xlsx')"
   ]
  },
  {
   "cell_type": "code",
   "execution_count": 7,
   "metadata": {},
   "outputs": [],
   "source": [
    "word34 = words.iloc[250:260]"
   ]
  },
  {
   "cell_type": "code",
   "execution_count": null,
   "metadata": {},
   "outputs": [
    {
     "name": "stderr",
     "output_type": "stream",
     "text": [
      "C:\\Users\\gozj3\\anaconda3\\lib\\site-packages\\ipykernel_launcher.py:5: TqdmDeprecationWarning: This function will be removed in tqdm==5.0.0\n",
      "Please use `tqdm.notebook.tqdm` instead of `tqdm.tqdm_notebook`\n",
      "  \"\"\"\n"
     ]
    },
    {
     "data": {
      "application/vnd.jupyter.widget-view+json": {
       "model_id": "91df1d1b69e645f880374eb3cf0e75e1",
       "version_major": 2,
       "version_minor": 0
      },
      "text/plain": [
       "HBox(children=(FloatProgress(value=0.0, max=10.0), HTML(value='')))"
      ]
     },
     "metadata": {},
     "output_type": "display_data"
    }
   ],
   "source": [
    "from collections import defaultdict\n",
    "from tqdm import tqdm_notebook\n",
    "\n",
    "# 날짜와 reference 가져오기\n",
    "sent1 = {w:[(df.iloc[_]['wdate'], df.iloc[_]['ref']) for _ in range(len(df)) if w in df.iloc[_]['head']] for w in tqdm_notebook(word34)}\n",
    "# Excel에 저장\n",
    "temp = pd.concat([pd.Series(v,name=k) for k,v in sent1.items()], axis=1)\n",
    "temp.to_excel('word3_4.xlsx')"
   ]
  },
  {
   "cell_type": "markdown",
   "metadata": {},
   "source": [
    "- Clear Up Data"
   ]
  },
  {
   "cell_type": "code",
   "execution_count": null,
   "metadata": {},
   "outputs": [],
   "source": [
    "# Data 원하는 형태로 가져오기\n",
    "import ast\n",
    "temp = pd.read_excel('wdate.xlsx', index_col='Unnamed: 0')\n",
    "temp = temp.T.to_dict('list')\n",
    "temp = {k:[ast.literal_eval(_) for _ in v if type(_) is str] for k,v in temp.items()}"
   ]
  },
  {
   "cell_type": "code",
   "execution_count": null,
   "metadata": {},
   "outputs": [],
   "source": [
    "from collections import defaultdict\n",
    "import re\n",
    "# date별, ref별로 dict 만들기\n",
    "date = defaultdict(lambda:0)\n",
    "ref = defaultdict(lambda:0)\n",
    "for k, v in temp.items():\n",
    "    dtemp = defaultdict(lambda:0)\n",
    "    rtemp = defaultdict(lambda:0)\n",
    "    for _ in v:\n",
    "        if re.search(r'\\d+[.]\\d+',_[0]):\n",
    "            if len(re.sub(r'[.]', r'-', re.search(r'\\d+[.]\\d+',_[0]).group())) < 7:\n",
    "                dtemp['20'+re.sub(r'[.]', r'-', re.search(r'\\d+[.]\\d+',_[0]).group())] += 1\n",
    "            else:\n",
    "                dtemp[re.sub(r'[.]', r'-', re.search(r'\\d+[.]\\d+',_[0]).group())] += 1 # format 통일\n",
    "        elif re.search(r'\\d+[-]\\d+',_[0]):\n",
    "            dtemp[re.search(r'\\d+[-]\\d+',_[0]).group()] += 1\n",
    "        elif re.search(r'\\d+년 \\d+',_[0]):\n",
    "            dtemp[re.sub(r'년 ', r'-', re.search(r'\\d+년 \\d+',_[0]).group())] += 1 # format 통일\n",
    "        elif re.search(r'\\d+[/]\\d+[/]', _[0]):\n",
    "            if len(re.sub(r'[/]', r'-', re.search(r'\\d+[/]\\d+[/]',_[0]).group())) < 7:\n",
    "                dtemp['20'+re.sub(r'[/]', r'-', re.search(r'\\d+/\\d+/',_[0]).group())[:-1]] += 1 # format 통일\n",
    "            else:\n",
    "                dtemp[re.sub(r'[/]', r'-', re.search(r'\\d+[/]\\d+[/]',_[0]).group())[:-1]] += 1\n",
    "        elif re.search(r'\\d+[/]\\d+', _[0]):\n",
    "            dtemp['2019'+'-'+re.search(r'\\d+', _[0]).group()]+=1\n",
    "        else:\n",
    "            print(_[1])\n",
    "            dtemp[_[0]] += 1\n",
    "        rtemp[_[1]] += 1\n",
    "    date[k] = dtemp\n",
    "    ref[k] = rtemp"
   ]
  },
  {
   "cell_type": "code",
   "execution_count": null,
   "metadata": {},
   "outputs": [],
   "source": [
    "import math\n",
    "# nan 값이 있으면 sum이 무조건 nan으로 처리되는 것을 피하기 위해서 overriding\n",
    "def sum(data):\n",
    "    sum = 0\n",
    "    for _ in data:\n",
    "        if not math.isnan(_):\n",
    "            sum += _\n",
    "    return sum"
   ]
  },
  {
   "cell_type": "code",
   "execution_count": null,
   "metadata": {},
   "outputs": [],
   "source": [
    "# ref별 비율 구하기\n",
    "ref = pd.DataFrame.from_dict(ref, orient='index')\n",
    "total_ref = defaultdict(lambda:0)\n",
    "for _ in head['ref']:\n",
    "    total_ref[_] += 1\n",
    "    \n",
    "this_month = pd.DataFrame.from_dict(date, orient='index')[['2020-08']]\n",
    "key = defaultdict(lambda:0)\n",
    "for _ in this_month.index:\n",
    "    mtemp = [pd.DataFrame(ref.loc[_]).iloc[i].values for i in range(len(pd.DataFrame.from_dict(total_ref, orient='index')))]\n",
    "    mtemp = sum(mtemp)\n",
    "    key[_] = this_month.loc[_].values/mtemp\n",
    "\n",
    "for _ in ref:\n",
    "    ref[_] = ref[_]/total_ref[_] # 각 빈도를 전체 수집 데이터로 나눈다.\n",
    "\n",
    "# for _ in ref.index:\n",
    "#     ref.loc[_] = ref.loc[_]/sum(ref.loc[_]) # 전체를 1로 맞추고, 각 비율을 구한다."
   ]
  },
  {
   "cell_type": "code",
   "execution_count": null,
   "metadata": {},
   "outputs": [],
   "source": [
    "pd.DataFrame.from_dict(date, orient='index')[['2020-08', '2020-07', '2020-06', '2020-05', '2020-04', '2020-03','2020-02','2020-01','2019-12', '2019-11','2019-10','2019-09','2019-08']].to_excel('word4_date.xlsx') # 1년치만 가져온다.\n",
    "ref.to_excel('word4_ref.xlsx')\n",
    "pd.DataFrame.from_dict(key, orient='index').to_excel('word4_month.xlsx')"
   ]
  }
 ],
 "metadata": {
  "kernelspec": {
   "display_name": "Python 3",
   "language": "python",
   "name": "python3"
  }
 },
 "nbformat": 4,
 "nbformat_minor": 4
}
