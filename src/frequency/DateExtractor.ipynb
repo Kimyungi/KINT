{
 "cells": [
  {
   "cell_type": "markdown",
   "metadata": {},
   "source": [
    "- Extract wdate and reference"
   ]
  },
  {
   "cell_type": "code",
   "execution_count": 1,
   "metadata": {},
   "outputs": [],
   "source": [
    "import sqlite3\n",
    "import pandas as pd\n",
    "conn = sqlite3.connect('Total_Ent.db')\n",
    "df1 = pd.read_sql('SELECT * FROM head', conn)\n",
    "conn.close()\n",
    "conn = sqlite3.connect('HP.db')\n",
    "df2 = pd.read_sql('SELECT * FROM head', conn)\n",
    "conn.close()\n",
    "head = df1.append(df2)"
   ]
  },
  {
   "cell_type": "code",
   "execution_count": 2,
   "metadata": {},
   "outputs": [],
   "source": [
    "df = pd.read_excel('KINT_var.xlsx')\n",
    "words = df[df.y == 1].iloc[:,1].drop_duplicates(keep='first') # 신어에 해당하는 것 가져오기\n",
    "df = head"
   ]
  },
  {
   "cell_type": "code",
   "execution_count": 3,
   "metadata": {},
   "outputs": [],
   "source": [
    "import re\n",
    "from string import punctuation\n",
    "\n",
    "# Stopwords 처리\n",
    "pattern1 = re.compile(r'[{}]'.format(re.escape(punctuation)))  # punctuation 제거\n",
    "pattern2 = re.compile(r'[^가-힣 ]')  # 특수문자, 자음, 모음, 숫자, 영어 제거\n",
    "pattern3 = re.compile(r'\\s{2,}')  # white space 1개로 바꾸기.\n",
    "\n",
    "df['head'] = df['head'].map(lambda x: pattern3.sub(' ',\n",
    "                                                       pattern2.sub('',\n",
    "                                                                    pattern1.sub('', x))))"
   ]
  },
  {
   "cell_type": "code",
   "execution_count": 4,
   "metadata": {},
   "outputs": [],
   "source": [
    "word3 = words.iloc[200:220]"
   ]
  },
  {
   "cell_type": "code",
   "execution_count": null,
   "metadata": {
    "scrolled": false
   },
   "outputs": [
    {
     "name": "stderr",
     "output_type": "stream",
     "text": [
      "C:\\Users\\gozj3\\anaconda3\\lib\\site-packages\\ipykernel_launcher.py:5: TqdmDeprecationWarning: This function will be removed in tqdm==5.0.0\n",
      "Please use `tqdm.notebook.tqdm` instead of `tqdm.tqdm_notebook`\n",
      "  \"\"\"\n"
     ]
    },
    {
     "data": {
      "application/vnd.jupyter.widget-view+json": {
       "model_id": "4b958e1fcc7940ec90b74fd044ea7912",
       "version_major": 2,
       "version_minor": 0
      },
      "text/plain": [
       "HBox(children=(FloatProgress(value=0.0, max=20.0), HTML(value='')))"
      ]
     },
     "metadata": {},
     "output_type": "display_data"
    }
   ],
   "source": [
    "from collections import defaultdict\n",
    "from tqdm import tqdm_notebook\n",
    "\n",
    "# 날짜와 reference 가져오기\n",
    "sent = {w:[(df.iloc[_]['wdate'], df.iloc[_]['ref']) for _ in range(len(df)) if w in df.iloc[_]['head']] for w in tqdm_notebook(word3)}\n",
    "# Excel에 저장\n",
    "pd.DataFrame.from_dict(sent, orient='index').to_excel('word3_1.xlsx')"
   ]
  },
  {
   "cell_type": "markdown",
   "metadata": {},
   "source": [
    "- Clear Up Data"
   ]
  },
  {
   "cell_type": "code",
   "execution_count": null,
   "metadata": {},
   "outputs": [],
   "source": [
    "# Data 원하는 형태로 가져오기\n",
    "import ast\n",
    "temp = pd.read_excel('wdate.xlsx', index_col='Unnamed: 0')\n",
    "temp = temp.T.to_dict('list')\n",
    "temp = {k:[ast.literal_eval(_) for _ in v if type(_) is str] for k,v in temp.items()}"
   ]
  },
  {
   "cell_type": "code",
   "execution_count": null,
   "metadata": {},
   "outputs": [],
   "source": [
    "from collections import defaultdict\n",
    "import re\n",
    "# date별, ref별로 dict 만들기\n",
    "date = defaultdict(lambda:0)\n",
    "ref = defaultdict(lambda:0)\n",
    "for k, v in temp.items():\n",
    "    dtemp = defaultdict(lambda:0)\n",
    "    rtemp = defaultdict(lambda:0)\n",
    "    for _ in v:\n",
    "        if re.search(r'\\d+[.]\\d+',_[0]):\n",
    "            if len(re.sub(r'[.]', r'-', re.search(r'\\d+[.]\\d+',_[0]).group())) < 7:\n",
    "                dtemp['20'+re.sub(r'[.]', r'-', re.search(r'\\d+[.]\\d+',_[0]).group())] += 1\n",
    "            else:\n",
    "                dtemp[re.sub(r'[.]', r'-', re.search(r'\\d+[.]\\d+',_[0]).group())] += 1 # format 통일\n",
    "        elif re.search(r'\\d+[-]\\d+',_[0]):\n",
    "            dtemp[re.search(r'\\d+[-]\\d+',_[0]).group()] += 1\n",
    "        elif re.search(r'\\d+년 \\d+',_[0]):\n",
    "            dtemp[re.sub(r'년 ', r'-', re.search(r'\\d+년 \\d+',_[0]).group())] += 1 # format 통일\n",
    "        elif re.search(r'\\d+[/]\\d+[/]', _[0]):\n",
    "            if len(re.sub(r'[/]', r'-', re.search(r'\\d+[/]\\d+[/]',_[0]).group())) < 7:\n",
    "                dtemp['20'+re.sub(r'[/]', r'-', re.search(r'\\d+/\\d+/',_[0]).group())[:-1]] += 1 # format 통일\n",
    "            else:\n",
    "                dtemp[re.sub(r'[/]', r'-', re.search(r'\\d+[/]\\d+[/]',_[0]).group())[:-1]] += 1\n",
    "        elif re.search(r'\\d+[/]\\d+', _[0]):\n",
    "            dtemp['2019'+'-'+re.search(r'\\d+', _[0]).group()]+=1\n",
    "        else:\n",
    "            print(_[1])\n",
    "            dtemp[_[0]] += 1\n",
    "        rtemp[_[1]] += 1\n",
    "    date[k] = dtemp\n",
    "    ref[k] = rtemp"
   ]
  },
  {
   "cell_type": "code",
   "execution_count": null,
   "metadata": {},
   "outputs": [],
   "source": [
    "import math\n",
    "# nan 값이 있으면 sum이 무조건 nan으로 처리되는 것을 피하기 위해서 overriding\n",
    "def sum(data):\n",
    "    sum = 0\n",
    "    for _ in data:\n",
    "        if not math.isnan(_):\n",
    "            sum += _\n",
    "    return sum"
   ]
  },
  {
   "cell_type": "code",
   "execution_count": null,
   "metadata": {},
   "outputs": [],
   "source": [
    "# ref별 비율 구하기\n",
    "ref = pd.DataFrame.from_dict(ref, orient='index')\n",
    "total_ref = defaultdict(lambda:0)\n",
    "for _ in head['ref']:\n",
    "    total_ref[_] += 1\n",
    "    \n",
    "for _ in ref:\n",
    "    ref[_] = ref[_]/total_ref[_] # 각 빈도를 전체 수집 데이터로 나눈다.\n",
    "\n",
    "for _ in ref.index:\n",
    "    ref.loc[_] = ref.loc[_]/sum(ref.loc[_]) # 전체를 1로 맞추고, 각 비율을 구한다.\n",
    "    \n",
    "# 이 달의 키워드를 뽑기 위한 수치 추출\n",
    "this_month = pd.DataFrame.from_dict(date, orient='index')[['2020-08']]\n",
    "key = defaultdict(lambda:0)\n",
    "for _ in this_month.index:\n",
    "    temp = list()\n",
    "    for i in range(len(pd.DataFrame.from_dict(total_ref, orient='index'))):\n",
    "        temp.append(pd.DataFrame.from_dict(total_ref, orient='index').iloc[i].values*pd.DataFrame(ref.loc[_]).iloc[i].values)\n",
    "    temp = sum(temp)\n",
    "    key[_] = this_month.loc[_].values/temp"
   ]
  },
  {
   "cell_type": "code",
   "execution_count": null,
   "metadata": {},
   "outputs": [],
   "source": [
    "pd.DataFrame.from_dict(date, orient='index')[['2020-08', '2020-07', '2020-06', '2020-05', '2020-04', '2020-03','2020-02','2020-01','2019-12', '2019-11','2019-10','2019-09','2019-08']].to_excel('word4_date.xlsx') # 1년치만 가져온다.\n",
    "ref.to_excel('word4_ref.xlsx')\n",
    "pd.DataFrame.from_dict(key, orient='index').to_excel('word4_key.xlsx')"
   ]
  }
 ],
 "metadata": {
  "kernelspec": {
   "display_name": "Python 3",
   "language": "python",
   "name": "python3"
  },
  "language_info": {
   "codemirror_mode": {
    "name": "ipython",
    "version": 3
   },
   "file_extension": ".py",
   "mimetype": "text/x-python",
   "name": "python",
   "nbconvert_exporter": "python",
   "pygments_lexer": "ipython3",
   "version": "3.7.6"
  }
 },
 "nbformat": 4,
 "nbformat_minor": 4
}
