{
 "cells": [
  {
   "cell_type": "markdown",
   "metadata": {},
   "source": [
    "- Extract wdate"
   ]
  },
  {
   "cell_type": "code",
   "execution_count": 1,
   "metadata": {},
   "outputs": [],
   "source": [
    "import sqlite3\n",
    "import pandas as pd\n",
    "conn = sqlite3.connect('News.db')\n",
    "head = pd.read_sql('SELECT * FROM head', conn)\n",
    "conn.close()"
   ]
  },
  {
   "cell_type": "code",
   "execution_count": 8,
   "metadata": {},
   "outputs": [],
   "source": [
    "df = pd.read_excel('News_var.xlsx')\n",
    "words = df[df.y == 1].iloc[:,1].drop_duplicates(keep='first') # 신어에 해당하는 것 가져오기\n",
    "df = head"
   ]
  },
  {
   "cell_type": "code",
   "execution_count": 10,
   "metadata": {},
   "outputs": [],
   "source": [
    "import re\n",
    "from string import punctuation\n",
    "\n",
    "# Stopwords 처리\n",
    "pattern1 = re.compile(r'[{}]'.format(re.escape(punctuation)))  # punctuation 제거\n",
    "pattern2 = re.compile(r'[^가-힣 ]')  # 특수문자, 자음, 모음, 숫자, 영어 제거\n",
    "pattern3 = re.compile(r'\\s{2,}')  # white space 1개로 바꾸기.\n",
    "\n",
    "df['head'] = df['head'].map(lambda x: pattern3.sub(' ',\n",
    "                                                       pattern2.sub('',\n",
    "                                                                    pattern1.sub('', x))))"
   ]
  },
  {
   "cell_type": "code",
   "execution_count": null,
   "metadata": {
    "scrolled": true
   },
   "outputs": [
    {
     "name": "stderr",
     "output_type": "stream",
     "text": [
      "C:\\Users\\gozj3\\anaconda3\\lib\\site-packages\\ipykernel_launcher.py:7: TqdmDeprecationWarning: This function will be removed in tqdm==5.0.0\n",
      "Please use `tqdm.notebook.tqdm` instead of `tqdm.tqdm_notebook`\n",
      "  import sys\n"
     ]
    },
    {
     "data": {
      "application/vnd.jupyter.widget-view+json": {
       "model_id": "1e3205a14f2c4845924c26884986e418",
       "version_major": 2,
       "version_minor": 0
      },
      "text/plain": [
       "HBox(children=(FloatProgress(value=0.0, max=258.0), HTML(value='')))"
      ]
     },
     "metadata": {},
     "output_type": "display_data"
    },
    {
     "name": "stdout",
     "output_type": "stream",
     "text": [
      "\n"
     ]
    }
   ],
   "source": [
    "from collections import defaultdict\n",
    "from tqdm import tqdm_notebook\n",
    "\n",
    "# index length 만들기\n",
    "length = list(range(len(df)))\n",
    "length.pop(-1)\n",
    "length = length[-1]\n",
    "\n",
    "# 날짜와 reference 가져오기\n",
    "sent = {w:[(df.iloc[_]['wdate'], df.iloc[_]['ref']) for _ in range(length) if w in df.iloc[_]['head']] for w in tqdm_notebook(words)}"
   ]
  }
 ],
 "metadata": {
  "kernelspec": {
   "display_name": "Python 3",
   "language": "python",
   "name": "python3"
  },
  "language_info": {
   "codemirror_mode": {
    "name": "ipython",
    "version": 3
   },
   "file_extension": ".py",
   "mimetype": "text/x-python",
   "name": "python",
   "nbconvert_exporter": "python",
   "pygments_lexer": "ipython3",
   "version": "3.7.6"
  }
 },
 "nbformat": 4,
 "nbformat_minor": 4
}
