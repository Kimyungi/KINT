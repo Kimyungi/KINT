{
 "cells": [
  {
   "cell_type": "markdown",
   "metadata": {},
   "source": [
    "# KR-Word Rank / Word Cloud"
   ]
  },
  {
   "cell_type": "code",
   "execution_count": 4,
   "metadata": {},
   "outputs": [
    {
     "name": "stdout",
     "output_type": "stream",
     "text": [
      "Collecting krwordrank\n",
      "  Downloading krwordrank-1.0.3-py3-none-any.whl (20 kB)\n",
      "Requirement already satisfied: scikit-learn>=0.22.1 in /Users/juyeon/opt/anaconda3/lib/python3.8/site-packages (from krwordrank) (0.23.1)\n",
      "Requirement already satisfied: numpy>=1.18.4 in /Users/juyeon/opt/anaconda3/lib/python3.8/site-packages (from krwordrank) (1.18.5)\n",
      "Requirement already satisfied: scipy>=1.4.1 in /Users/juyeon/opt/anaconda3/lib/python3.8/site-packages (from krwordrank) (1.4.1)\n",
      "Requirement already satisfied: joblib>=0.11 in /Users/juyeon/opt/anaconda3/lib/python3.8/site-packages (from scikit-learn>=0.22.1->krwordrank) (0.16.0)\n",
      "Requirement already satisfied: threadpoolctl>=2.0.0 in /Users/juyeon/opt/anaconda3/lib/python3.8/site-packages (from scikit-learn>=0.22.1->krwordrank) (2.1.0)\n",
      "Installing collected packages: krwordrank\n",
      "Successfully installed krwordrank-1.0.3\n",
      "\u001b[33mWARNING: You are using pip version 20.2.1; however, version 20.2.2 is available.\n",
      "You should consider upgrading via the '/Users/juyeon/opt/anaconda3/bin/python -m pip install --upgrade pip' command.\u001b[0m\n",
      "Note: you may need to restart the kernel to use updated packages.\n"
     ]
    }
   ],
   "source": [
    "pip install krwordrank"
   ]
  },
  {
   "cell_type": "code",
   "execution_count": 6,
   "metadata": {},
   "outputs": [],
   "source": [
    "import sqlite3\n",
    "import pandas as pd\n",
    "from collections import defaultdict\n",
    "import re\n",
    "import numpy as np\n",
    "import math\n",
    "from string import punctuation\n",
    "import matplotlib.pyplot as plt"
   ]
  },
  {
   "cell_type": "code",
   "execution_count": 12,
   "metadata": {},
   "outputs": [],
   "source": [
    "conn = sqlite3.connect('Entertainment101.db')\n",
    "cur = conn.cursor()\n",
    "df = pd.read_sql('SELECT * FROM head',conn)"
   ]
  },
  {
   "cell_type": "code",
   "execution_count": 7,
   "metadata": {},
   "outputs": [],
   "source": [
    "texts=df['head']"
   ]
  },
  {
   "cell_type": "code",
   "execution_count": 8,
   "metadata": {},
   "outputs": [
    {
     "name": "stdout",
     "output_type": "stream",
     "text": [
      "scan vocabs ... \n",
      "num vocabs = 1052496\n",
      "done = 9 Early stopped.\n",
      "      존나:\t3477.8256\n",
      "      진짜:\t2557.5657\n",
      "     언냐들:\t1893.0973\n",
      "      근데:\t1409.8845\n",
      "      ㄹㅇ:\t1260.9917\n",
      "      아니:\t1212.8705\n",
      "      이거:\t1034.6056\n",
      "      그냥:\t981.2301\n",
      "      지금:\t954.5992\n",
      "      ㅋㅋ:\t855.0631\n",
      "      띠니:\t853.9668\n",
      "      제일:\t834.1234\n",
      "      한남:\t825.7803\n",
      "      오늘:\t795.6208\n",
      "      느금:\t777.9827\n",
      "      노무:\t763.3133\n",
      "      와꾸:\t735.0938\n",
      "      시발:\t686.7157\n",
      "      노래:\t579.3103\n",
      "      요즘:\t568.6361\n",
      "      이제:\t520.2133\n",
      "      득와:\t518.0631\n",
      "      씨발:\t502.2884\n",
      "      띤갤:\t498.3244\n",
      "      누가:\t458.0276\n",
      "     온냐들:\t447.0838\n",
      "      너무:\t442.8338\n",
      "      내가:\t425.0607\n",
      "     솔직히:\t409.9567\n",
      "      무슨:\t394.5861\n"
     ]
    }
   ],
   "source": [
    "from krwordrank.word import KRWordRank\n",
    "\n",
    "wordrank_extractor = KRWordRank(min_count = 5, max_length=10,verbose=True)\n",
    "\n",
    "beta = 0.85\n",
    "max_iter =10\n",
    "\n",
    "keywords, rank, graph = wordrank_extractor.extract(texts, beta, max_iter)\n",
    "\n",
    "for word, r in sorted(keywords.items(), key=lambda x:x[1], reverse=True)[:30]:\n",
    "    print('%8s:\\t%.4f' % (word, r))"
   ]
  },
  {
   "cell_type": "code",
   "execution_count": null,
   "metadata": {},
   "outputs": [],
   "source": [
    "pip install wordcloud"
   ]
  },
  {
   "cell_type": "code",
   "execution_count": null,
   "metadata": {},
   "outputs": [],
   "source": [
    "from PIL import Image\n",
    "import numpy as np"
   ]
  },
  {
   "cell_type": "code",
   "execution_count": null,
   "metadata": {},
   "outputs": [],
   "source": [
    "kint3_mask = np.array(Image.open(\"kint3_mask.jpg\"))\n",
    "\n",
    "wordcloud = WordCloud(\n",
    "    font_path = font_path,\n",
    "    width = 800,\n",
    "    height = 800,\n",
    "    background_color=\"white\",\n",
    "    mask = kint3_mask\n",
    ")\n",
    "\n",
    "wordcloud = wordcloud.generate(' '.join(df['head']))\n",
    "\n",
    "kint = plt.figure(figsize=(10, 10))\n",
    "plt.imshow(wordcloud, interpolation=\"bilinear\")\n",
    "plt.axis(\"off\")\n",
    "plt.show()\n",
    "\n",
    "kint.savefig('./kint3_mask.png')"
   ]
  },
  {
   "cell_type": "code",
   "execution_count": 2,
   "metadata": {},
   "outputs": [],
   "source": [
    "conn = sqlite3.connect('Entertainment101.db')\n",
    "cur = conn.cursor()\n",
    "df = pd.read_sql('SELECT * FROM head',conn)"
   ]
  },
  {
   "cell_type": "code",
   "execution_count": 3,
   "metadata": {},
   "outputs": [
    {
     "data": {
      "text/html": [
       "<div>\n",
       "<style scoped>\n",
       "    .dataframe tbody tr th:only-of-type {\n",
       "        vertical-align: middle;\n",
       "    }\n",
       "\n",
       "    .dataframe tbody tr th {\n",
       "        vertical-align: top;\n",
       "    }\n",
       "\n",
       "    .dataframe thead th {\n",
       "        text-align: right;\n",
       "    }\n",
       "</style>\n",
       "<table border=\"1\" class=\"dataframe\">\n",
       "  <thead>\n",
       "    <tr style=\"text-align: right;\">\n",
       "      <th></th>\n",
       "      <th>pk</th>\n",
       "      <th>head</th>\n",
       "      <th>wdate</th>\n",
       "      <th>cdate</th>\n",
       "      <th>ref</th>\n",
       "      <th>page</th>\n",
       "    </tr>\n",
       "  </thead>\n",
       "  <tbody>\n",
       "    <tr>\n",
       "      <th>0</th>\n",
       "      <td>1</td>\n",
       "      <td>릴라창년보면 그냥 한심하긔....</td>\n",
       "      <td>2020-08-06 10:20:06</td>\n",
       "      <td>2020-08-06 10:20:43</td>\n",
       "      <td>101</td>\n",
       "      <td>1</td>\n",
       "    </tr>\n",
       "    <tr>\n",
       "      <th>1</th>\n",
       "      <td>2</td>\n",
       "      <td>뷔빡앰들 샴숑샴숑 노래부르더니 개텰이노ㅋㅋㅋㅋㅋㅋㅋ</td>\n",
       "      <td>2020-08-06 10:19:51</td>\n",
       "      <td>2020-08-06 10:20:43</td>\n",
       "      <td>101</td>\n",
       "      <td>1</td>\n",
       "    </tr>\n",
       "    <tr>\n",
       "      <th>2</th>\n",
       "      <td>3</td>\n",
       "      <td>찜빡이 와꾸사망해서 60대 찜할줌 눈물흘리는중ㅋㅋ</td>\n",
       "      <td>2020-08-06 10:19:42</td>\n",
       "      <td>2020-08-06 10:20:43</td>\n",
       "      <td>101</td>\n",
       "      <td>1</td>\n",
       "    </tr>\n",
       "    <tr>\n",
       "      <th>3</th>\n",
       "      <td>4</td>\n",
       "      <td>서양펍녀❤+고릴라창년❤+돼지신음❤딱밤섹스❤+질싸임신</td>\n",
       "      <td>2020-08-06 10:19:25</td>\n",
       "      <td>2020-08-06 10:20:43</td>\n",
       "      <td>101</td>\n",
       "      <td>1</td>\n",
       "    </tr>\n",
       "    <tr>\n",
       "      <th>4</th>\n",
       "      <td>5</td>\n",
       "      <td>서양펍녀❤+고릴라창년❤+돼지신음❤딱밤섹스❤+질싸임신</td>\n",
       "      <td>2020-08-06 10:19:16</td>\n",
       "      <td>2020-08-06 10:20:43</td>\n",
       "      <td>101</td>\n",
       "      <td>1</td>\n",
       "    </tr>\n",
       "    <tr>\n",
       "      <th>...</th>\n",
       "      <td>...</td>\n",
       "      <td>...</td>\n",
       "      <td>...</td>\n",
       "      <td>...</td>\n",
       "      <td>...</td>\n",
       "      <td>...</td>\n",
       "    </tr>\n",
       "    <tr>\n",
       "      <th>4561304</th>\n",
       "      <td>4561305</td>\n",
       "      <td>앱창 한남이 윾정이 빤다니까 소름 돋아</td>\n",
       "      <td>2018-06-23 02:30:12</td>\n",
       "      <td>2020-08-10 03:29:54</td>\n",
       "      <td>101</td>\n",
       "      <td>91711</td>\n",
       "    </tr>\n",
       "    <tr>\n",
       "      <th>4561305</th>\n",
       "      <td>4561306</td>\n",
       "      <td>와 하괴가 띵언 뱉으니까 능국년들 우는거 보시긔 ㅠㅠㅠㅠ 놈딱 감동적이노</td>\n",
       "      <td>2018-06-23 02:30:11</td>\n",
       "      <td>2020-08-10 03:29:54</td>\n",
       "      <td>101</td>\n",
       "      <td>91711</td>\n",
       "    </tr>\n",
       "    <tr>\n",
       "      <th>4561306</th>\n",
       "      <td>4561307</td>\n",
       "      <td>.</td>\n",
       "      <td>2018-06-23 02:30:09</td>\n",
       "      <td>2020-08-10 03:29:54</td>\n",
       "      <td>101</td>\n",
       "      <td>91711</td>\n",
       "    </tr>\n",
       "    <tr>\n",
       "      <th>4561307</th>\n",
       "      <td>4561308</td>\n",
       "      <td>하괴 근데 말 잘한다</td>\n",
       "      <td>2018-06-23 02:30:03</td>\n",
       "      <td>2020-08-10 03:29:54</td>\n",
       "      <td>101</td>\n",
       "      <td>91711</td>\n",
       "    </tr>\n",
       "    <tr>\n",
       "      <th>4561308</th>\n",
       "      <td>4561309</td>\n",
       "      <td>볼수록 이태용 닮음</td>\n",
       "      <td>2018-06-23 02:30:02</td>\n",
       "      <td>2020-08-10 03:29:54</td>\n",
       "      <td>101</td>\n",
       "      <td>91711</td>\n",
       "    </tr>\n",
       "  </tbody>\n",
       "</table>\n",
       "<p>4561309 rows × 6 columns</p>\n",
       "</div>"
      ],
      "text/plain": [
       "              pk                                      head  \\\n",
       "0              1                        릴라창년보면 그냥 한심하긔....   \n",
       "1              2              뷔빡앰들 샴숑샴숑 노래부르더니 개텰이노ㅋㅋㅋㅋㅋㅋㅋ   \n",
       "2              3               찜빡이 와꾸사망해서 60대 찜할줌 눈물흘리는중ㅋㅋ   \n",
       "3              4              서양펍녀❤+고릴라창년❤+돼지신음❤딱밤섹스❤+질싸임신   \n",
       "4              5              서양펍녀❤+고릴라창년❤+돼지신음❤딱밤섹스❤+질싸임신   \n",
       "...          ...                                       ...   \n",
       "4561304  4561305                     앱창 한남이 윾정이 빤다니까 소름 돋아   \n",
       "4561305  4561306  와 하괴가 띵언 뱉으니까 능국년들 우는거 보시긔 ㅠㅠㅠㅠ 놈딱 감동적이노   \n",
       "4561306  4561307                                         .   \n",
       "4561307  4561308                               하괴 근데 말 잘한다   \n",
       "4561308  4561309                                볼수록 이태용 닮음   \n",
       "\n",
       "                       wdate                cdate  ref   page  \n",
       "0        2020-08-06 10:20:06  2020-08-06 10:20:43  101      1  \n",
       "1        2020-08-06 10:19:51  2020-08-06 10:20:43  101      1  \n",
       "2        2020-08-06 10:19:42  2020-08-06 10:20:43  101      1  \n",
       "3        2020-08-06 10:19:25  2020-08-06 10:20:43  101      1  \n",
       "4        2020-08-06 10:19:16  2020-08-06 10:20:43  101      1  \n",
       "...                      ...                  ...  ...    ...  \n",
       "4561304  2018-06-23 02:30:12  2020-08-10 03:29:54  101  91711  \n",
       "4561305  2018-06-23 02:30:11  2020-08-10 03:29:54  101  91711  \n",
       "4561306  2018-06-23 02:30:09  2020-08-10 03:29:54  101  91711  \n",
       "4561307  2018-06-23 02:30:03  2020-08-10 03:29:54  101  91711  \n",
       "4561308  2018-06-23 02:30:02  2020-08-10 03:29:54  101  91711  \n",
       "\n",
       "[4561309 rows x 6 columns]"
      ]
     },
     "execution_count": 3,
     "metadata": {},
     "output_type": "execute_result"
    }
   ],
   "source": [
    "df"
   ]
  },
  {
   "cell_type": "code",
   "execution_count": null,
   "metadata": {},
   "outputs": [],
   "source": []
  }
 ],
 "metadata": {
  "kernelspec": {
   "display_name": "Python 3",
   "language": "python",
   "name": "python3"
  },
  "language_info": {
   "codemirror_mode": {
    "name": "ipython",
    "version": 3
   },
   "file_extension": ".py",
   "mimetype": "text/x-python",
   "name": "python",
   "nbconvert_exporter": "python",
   "pygments_lexer": "ipython3",
   "version": "3.8.3"
  }
 },
 "nbformat": 4,
 "nbformat_minor": 4
}
