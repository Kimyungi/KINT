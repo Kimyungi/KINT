{
 "cells": [
  {
   "cell_type": "markdown",
   "metadata": {},
   "source": [
    "# Crawler 사용법"
   ]
  },
  {
   "cell_type": "code",
   "execution_count": null,
   "metadata": {},
   "outputs": [],
   "source": [
    "# 사이트 ref\n",
    "# 오늘의유머_베스트오브베스트 : 1, 오늘의유머_베스트게시판 : 2, 일베_일간베스트 : 3, 디시인사이드_야구갤러리 : 4,\n",
    "# 뽐뿌_자유게시판 : 5, 네이트판_10대게시판 : 6, 네이트판_20대게시판 :7, 네이트판_톡커들의선택 : 8\n",
    "# 디시인사이드_인터넷방송갤러리 : 100, 디시인사이드_남자연예인갤러리 : 101, 디시인사이드_여자연예인갤러리 : 102, 인스티즈_이슈 : 103\n",
    "# 보배드림_정치 : 200, 일베_정치/시사 : 201 "
   ]
  },
  {
   "cell_type": "code",
   "execution_count": 2,
   "metadata": {},
   "outputs": [],
   "source": [
    "import Crawler"
   ]
  },
  {
   "cell_type": "markdown",
   "metadata": {},
   "source": [
    "## 정치사이트 크롤러(보배드림_정치, 일베_정치/시사)"
   ]
  },
  {
   "cell_type": "code",
   "execution_count": 3,
   "metadata": {},
   "outputs": [],
   "source": [
    "pc = Crawler.PCrawler()"
   ]
  },
  {
   "cell_type": "markdown",
   "metadata": {},
   "source": [
    "- 보배드림_정치"
   ]
  },
  {
   "cell_type": "code",
   "execution_count": null,
   "metadata": {},
   "outputs": [],
   "source": [
    "# recnet = True일 경우 첫페이지 부터 크롤링하며 False일 경우 db에 저장되어있는 방문했던 사이트 이후부터 크롤링 한다.\n",
    "pc.bobae(recent=True) "
   ]
  },
  {
   "cell_type": "code",
   "execution_count": null,
   "metadata": {},
   "outputs": [],
   "source": [
    "# 50페이지까지 수집했다고 가정했을 때 51페이지 부터 뒤로 수집하고 싶으면 recent=False로 하면 된다.\n",
    "pc.bobae(recent=False)"
   ]
  },
  {
   "cell_type": "code",
   "execution_count": null,
   "metadata": {},
   "outputs": [],
   "source": [
    "# 5일전 1페이지부터 수집했으면 그동안 새로운 페이지들이 사이트에서 추가된다. 따라서 5일전부터 오늘날짜까지 크롤링 하고 싶은경우\n",
    "pc.bobae_date_update()"
   ]
  },
  {
   "cell_type": "markdown",
   "metadata": {},
   "source": [
    "- 일베_정치/시사"
   ]
  },
  {
   "cell_type": "code",
   "execution_count": null,
   "metadata": {},
   "outputs": [],
   "source": [
    "# 일베 사이트도 보배드림 사이트와 똑같은 방법으로 크롤링하면 된다.\n",
    "# 첫페이지 부터 크롤링 하고 싶을 때 \n",
    "pc.ilbe(recent=True) "
   ]
  },
  {
   "cell_type": "code",
   "execution_count": null,
   "metadata": {},
   "outputs": [],
   "source": [
    "pc.ilbe(recent=False)"
   ]
  },
  {
   "cell_type": "code",
   "execution_count": null,
   "metadata": {},
   "outputs": [],
   "source": [
    "pc.ilbe_date_update()"
   ]
  },
  {
   "cell_type": "markdown",
   "metadata": {},
   "source": [
    "## 유머사이트 크롤러\n",
    "### 오늘의유머(베오베, 베스트), 일간베스트, 디시_야구갤러리, 뽐뿌, 네이트판(10대, 20대, 톡커들의선택)"
   ]
  },
  {
   "cell_type": "code",
   "execution_count": null,
   "metadata": {},
   "outputs": [],
   "source": [
    "hc = Crawler.HCrawler()"
   ]
  },
  {
   "cell_type": "markdown",
   "metadata": {},
   "source": [
    "- 오늘의유머(베오베, 베스트)"
   ]
  },
  {
   "cell_type": "code",
   "execution_count": null,
   "metadata": {},
   "outputs": [],
   "source": [
    "# 1페이지부터 크롤링 할 경우 : recent=True\n",
    "# 저장된 db에서 그 이전 페이지부터 크롤링할 경우 : recent=False\n",
    "# 오늘의 유머 베오베 게시판 크롤링할 경우 bob=True, 베스트 게시판 크롤링할 경우 bob=False\n",
    "hc.ou(bob=True,recent=True)"
   ]
  },
  {
   "cell_type": "markdown",
   "metadata": {},
   "source": [
    "- 일베_일간베스트"
   ]
  },
  {
   "cell_type": "code",
   "execution_count": null,
   "metadata": {},
   "outputs": [],
   "source": [
    "# 1페이지부터 크롤링 할 경우 : recent=True\n",
    "# 저장된 db에서 그 이전 페이지부터 크롤링할 경우 : recent=False\n",
    "hc.ilbe(recent=True)"
   ]
  },
  {
   "cell_type": "code",
   "execution_count": null,
   "metadata": {},
   "outputs": [],
   "source": [
    "# 수집된 최신 날짜에서 오늘 날짜까지 수집하고 싶을 경우\n",
    "# 예) 8월 20일까지 데이터를 수집하였으며 8월21일부터 오늘 날짜(8월 27일)까지 크롤링 할 경우\n",
    "hc.ilbe_date_update()"
   ]
  },
  {
   "cell_type": "markdown",
   "metadata": {},
   "source": [
    "- 디시인사이드_야구갤러리"
   ]
  },
  {
   "cell_type": "code",
   "execution_count": null,
   "metadata": {},
   "outputs": [],
   "source": [
    "# 1페이지부터 크롤링 할 경우 : recent=True\n",
    "# 저장된 db에서 그 이전 페이지부터 크롤링할 경우 : recent=False\n",
    "hc.dc(recent=True)"
   ]
  },
  {
   "cell_type": "markdown",
   "metadata": {},
   "source": [
    "- 뽐뿌_자유게시판"
   ]
  },
  {
   "cell_type": "code",
   "execution_count": null,
   "metadata": {},
   "outputs": [],
   "source": [
    "hc.ppomppu(recent=True)"
   ]
  },
  {
   "cell_type": "markdown",
   "metadata": {},
   "source": [
    "- 네이트판"
   ]
  },
  {
   "cell_type": "code",
   "execution_count": null,
   "metadata": {},
   "outputs": [],
   "source": [
    "# teen=True일 경우 10대 게시판, False일 경우 20대 게시판 크롤링\n",
    "hc.nate(self, teen=True , recent=True)"
   ]
  },
  {
   "cell_type": "code",
   "execution_count": null,
   "metadata": {},
   "outputs": [],
   "source": [
    "hc.nate_date_update()"
   ]
  },
  {
   "cell_type": "code",
   "execution_count": null,
   "metadata": {},
   "outputs": [],
   "source": [
    "# 네이트판 토커들의 선택\n",
    "hc.nate_talker(recent=True)"
   ]
  },
  {
   "cell_type": "markdown",
   "metadata": {},
   "source": [
    "## 엔터테인먼트 사이트 크롤링\n",
    "### 디시인사이드(인터넷방송, 남자연예인, 여자연예인) 인스티즈"
   ]
  },
  {
   "cell_type": "code",
   "execution_count": null,
   "metadata": {},
   "outputs": [],
   "source": [
    "ec = Crawler.ECrawler()"
   ]
  },
  {
   "cell_type": "markdown",
   "metadata": {},
   "source": [
    "- 디시인사이드"
   ]
  },
  {
   "cell_type": "code",
   "execution_count": null,
   "metadata": {},
   "outputs": [],
   "source": [
    "# gallery 1 : 인방갤, 2 : 남자연예인갤러리, 3 : 여자연예인갤러리\n",
    "ec.dc(gallery=1, recent=True)"
   ]
  },
  {
   "cell_type": "markdown",
   "metadata": {},
   "source": [
    "- 인스티즈_이슈"
   ]
  },
  {
   "cell_type": "code",
   "execution_count": null,
   "metadata": {},
   "outputs": [],
   "source": [
    "ec.instize(recent=True)"
   ]
  },
  {
   "cell_type": "code",
   "execution_count": null,
   "metadata": {},
   "outputs": [],
   "source": [
    "ec.instize_date_update()"
   ]
  },
  {
   "cell_type": "markdown",
   "metadata": {},
   "source": [
    "## 뉴스사이트 크롤링"
   ]
  },
  {
   "cell_type": "code",
   "execution_count": null,
   "metadata": {},
   "outputs": [],
   "source": [
    "nc = Crawler.NCrawler()"
   ]
  },
  {
   "cell_type": "markdown",
   "metadata": {},
   "source": [
    "- 한겨레"
   ]
  },
  {
   "cell_type": "code",
   "execution_count": null,
   "metadata": {},
   "outputs": [],
   "source": [
    "nc.han(recent=True)"
   ]
  },
  {
   "cell_type": "markdown",
   "metadata": {},
   "source": [
    "- 경향신문"
   ]
  },
  {
   "cell_type": "code",
   "execution_count": null,
   "metadata": {},
   "outputs": [],
   "source": [
    "nc.khan(recent=True)"
   ]
  },
  {
   "cell_type": "markdown",
   "metadata": {},
   "source": [
    "- 매일경제"
   ]
  },
  {
   "cell_type": "code",
   "execution_count": null,
   "metadata": {},
   "outputs": [],
   "source": [
    "nc. mk(self, recent=True)"
   ]
  },
  {
   "cell_type": "markdown",
   "metadata": {},
   "source": [
    "- 조선일보"
   ]
  },
  {
   "cell_type": "code",
   "execution_count": null,
   "metadata": {},
   "outputs": [],
   "source": [
    "nc.chosun(self, recent=True)"
   ]
  },
  {
   "cell_type": "markdown",
   "metadata": {},
   "source": [
    "- 디지털 타임즈"
   ]
  },
  {
   "cell_type": "code",
   "execution_count": null,
   "metadata": {},
   "outputs": [],
   "source": [
    "nc.digital_times(recent=True)"
   ]
  },
  {
   "cell_type": "markdown",
   "metadata": {},
   "source": [
    "- 동아일보"
   ]
  },
  {
   "cell_type": "code",
   "execution_count": null,
   "metadata": {},
   "outputs": [],
   "source": [
    "nc.donga(recent=True)"
   ]
  },
  {
   "cell_type": "markdown",
   "metadata": {},
   "source": [
    "- SBS 뉴스"
   ]
  },
  {
   "cell_type": "code",
   "execution_count": null,
   "metadata": {},
   "outputs": [],
   "source": [
    "nc.SBS(recent=True)"
   ]
  },
  {
   "cell_type": "markdown",
   "metadata": {},
   "source": [
    "- 한국경제"
   ]
  },
  {
   "cell_type": "code",
   "execution_count": null,
   "metadata": {},
   "outputs": [],
   "source": [
    "hankyung(recent=True)"
   ]
  }
 ],
 "metadata": {
  "kernelspec": {
   "display_name": "Python 3",
   "language": "python",
   "name": "python3"
  },
  "language_info": {
   "codemirror_mode": {
    "name": "ipython",
    "version": 3
   },
   "file_extension": ".py",
   "mimetype": "text/x-python",
   "name": "python",
   "nbconvert_exporter": "python",
   "pygments_lexer": "ipython3",
   "version": "3.8.3"
  }
 },
 "nbformat": 4,
 "nbformat_minor": 4
}
