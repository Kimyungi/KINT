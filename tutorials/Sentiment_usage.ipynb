{
 "cells": [
  {
   "cell_type": "markdown",
   "metadata": {},
   "source": [
    "- Sentiment 모듈 사용법"
   ]
  },
  {
   "cell_type": "markdown",
   "metadata": {},
   "source": [
    "## 문장 추출"
   ]
  },
  {
   "cell_type": "code",
   "execution_count": null,
   "metadata": {},
   "outputs": [],
   "source": [
    "import pandas as pd\n",
    "import Sentiment\n",
    "import sqlite3\n",
    "# new_words_var.xlsx에서 신조어 목록 불러오기\n",
    "df = pd.read_excel('new_words_var.xlsx')\n",
    "new_words = df[df.y == 1].iloc[:,1].drop_duplicates(keep='first')\n",
    "\n",
    "# 전체 데이터 합치기\n",
    "conn = sqlite3.connect('Total_Ent.db')\n",
    "df1 = pd.read_sql('SELECT head FROM head', conn)\n",
    "conn.close()\n",
    "conn = sqlite3.connect('HP.db')\n",
    "df2 = pd.read_sql('SELECT head FROM head', conn)\n",
    "conn.close()\n",
    "head = df1.append(df2)\n",
    "\n",
    "# sentence 추출\n",
    "analysis = Sentiment.Sentiment()\n",
    "sent = analysis.extract_sent(head, new_words)\n",
    "# DataFrame(head)과 신어(words) 입력하면 신어에 해당하는 sentences 추출\n",
    "sent = pd.DataFrame.from_dict(sent, orient='index')\n",
    "conn = sqlite3.connect('sent.db')\n",
    "sent.to_sql('sent', conn)\n",
    "# 신어와 신어가 들어있는 예문을 sent.db로 저장"
   ]
  },
  {
   "cell_type": "markdown",
   "metadata": {},
   "source": [
    "## 감성 사전 업데이트 및 감성 점수 추출"
   ]
  },
  {
   "cell_type": "code",
   "execution_count": null,
   "metadata": {},
   "outputs": [],
   "source": [
    "# Initialize\n",
    "analysis = Sentiment.Sentiment()\n",
    "conn = sqlite3.connect('sent.db')\n",
    "sent = pd.read_sql('SELECT * FROM sent', conn)\n",
    "mapping_most_related = analysis.cal_score(sent)\n",
    "# 신어-문장으로 된 DataFrame(sent) 입력하면 sentiment 점수를 excel에 저장하고 신조어와 most_related (단어, pmi) 쌍을 출력\n",
    "\n",
    "positive = []\n",
    "negative = []\n",
    "for _ in tqdm(range(10)):\n",
    "    # 일정 (단어-감성score) set을 사용하여, 감성사전 score 업데이트 (학습과정)\n",
    "    sentiment_result = pd.read_excel('sentiment_result.xlsx') # sentiment_result.xlsx : 감성 점수 엑셀 파일\n",
    "    positive, negative = analysis.update_score(positive, negative, sentiment_result) \n",
    "    # 감성사전 score 업데이트하고 업데이트된 감성 점수를 엑셀로 저장(sentiment_result.xlsx가 업데이트 됨)\n",
    "    \n",
    "    # 감성사전을 이용하여 감성분석을 진행\n",
    "    sentiment = pd.read_excel('sentiment.xlsx')\n",
    "    analysis.sentiment_analysis(sentiment, mapping_most_related)\n",
    "    # 업데이트된 감성 점수를 이용하여 감성분석을 다시 함"
   ]
  },
  {
   "cell_type": "code",
   "execution_count": null,
   "metadata": {},
   "outputs": [],
   "source": []
  }
 ],
 "metadata": {
  "kernelspec": {
   "display_name": "Python 3",
   "language": "python",
   "name": "python3"
  },
  "language_info": {
   "codemirror_mode": {
    "name": "ipython",
    "version": 3
   },
   "file_extension": ".py",
   "mimetype": "text/x-python",
   "name": "python",
   "nbconvert_exporter": "python",
   "pygments_lexer": "ipython3",
   "version": "3.8.3"
  }
 },
 "nbformat": 4,
 "nbformat_minor": 4
}
