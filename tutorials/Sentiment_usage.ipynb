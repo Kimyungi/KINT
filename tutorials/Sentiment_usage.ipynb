{
 "cells": [
  {
   "cell_type": "markdown",
   "metadata": {},
   "source": [
    "## Sentiment 사용법 (감성분석 및 키워드 추출)"
   ]
  },
  {
   "cell_type": "markdown",
   "metadata": {},
   "source": [
    "## 문장 추출"
   ]
  },
  {
   "cell_type": "code",
   "execution_count": null,
   "metadata": {},
   "outputs": [],
   "source": [
    "import pandas as pd\n",
    "import Sentiment\n",
    "import sqlite3"
   ]
  },
  {
   "cell_type": "markdown",
   "metadata": {},
   "source": [
    "- 감성분석할 Data load"
   ]
  },
  {
   "cell_type": "code",
   "execution_count": null,
   "metadata": {},
   "outputs": [],
   "source": [
    "# new_words_var.xlsx에서 신조어 목록 불러오기\n",
    "df = pd.read_excel('new_words_var.xlsx')\n",
    "new_words = df[df.y == 1].iloc[:,1].drop_duplicates(keep='first')"
   ]
  },
  {
   "cell_type": "markdown",
   "metadata": {},
   "source": [
    "- 해당 용어가 추출된 전체 Dataset load"
   ]
  },
  {
   "cell_type": "code",
   "execution_count": null,
   "metadata": {},
   "outputs": [],
   "source": [
    "# 전체 데이터 합치기\n",
    "conn = sqlite3.connect('Total_Ent.db')\n",
    "df1 = pd.read_sql('SELECT head FROM head', conn)\n",
    "conn.close()\n",
    "conn = sqlite3.connect('HP.db')\n",
    "df2 = pd.read_sql('SELECT head FROM head', conn)\n",
    "conn.close()\n",
    "head = df1.append(df2)"
   ]
  },
  {
   "cell_type": "markdown",
   "metadata": {},
   "source": [
    "- 해당 용어가 들어있는 Sentence 추출"
   ]
  },
  {
   "cell_type": "code",
   "execution_count": null,
   "metadata": {},
   "outputs": [],
   "source": [
    "analysis = Sentiment.Sentiment()\n",
    "sent = analysis.extract_sent(head, new_words) # DataFrame(head)과 신어(words) 입력하면 신어에 해당하는 sentences 추출\n",
    "sent = pd.DataFrame.from_dict(sent, orient='index') # Pandas DataFrame으로 저장\n",
    "conn = sqlite3.connect('sent.db')\n",
    "sent.to_sql('sent', conn) # 신어와 신어가 들어있는 예문을 sent.db로 저장"
   ]
  },
  {
   "cell_type": "markdown",
   "metadata": {},
   "source": [
    "## 감성분석"
   ]
  },
  {
   "cell_type": "code",
   "execution_count": null,
   "metadata": {},
   "outputs": [],
   "source": [
    "import pandas as pd\n",
    "import numpy as np\n",
    "from sklearn.preprocessing import StandardScaler\n",
    "from scipy.stats import norm"
   ]
  },
  {
   "cell_type": "markdown",
   "metadata": {},
   "source": [
    "- instance화 및 Data load"
   ]
  },
  {
   "cell_type": "code",
   "execution_count": null,
   "metadata": {},
   "outputs": [],
   "source": [
    "analysis = Sentiment.Sentiment()\n",
    "conn = sqlite3.connect('sent.db')\n",
    "sent = pd.read_sql('SELECT * FROM sent', conn)\n",
    "mapping_most_related = analysis.cal_score(sent)\n",
    "# 신어-문장으로 된 DataFrame(sent) 입력하면 sentiment 점수를 excel에 저장하고 신조어와 most_related (단어, pmi) 쌍을 출력\n",
    "# 다음 감성사전 업데이트를 효율적으로 하기 위해서 그 결과를 mapping_most_related에 저장한다."
   ]
  },
  {
   "cell_type": "markdown",
   "metadata": {},
   "source": [
    "- 감성사전 업데이트 및 감성점수 추출"
   ]
  },
  {
   "cell_type": "code",
   "execution_count": null,
   "metadata": {},
   "outputs": [],
   "source": [
    "positive = []\n",
    "negative = []\n",
    "for _ in tqdm(range(40)):\n",
    "    # 일정 (단어-감성score) set을 사용하여, 감성사전 score 업데이트 (학습과정)\n",
    "    sentiment_result = pd.read_excel('sentiment_result.xlsx') # sentiment_result.xlsx : 감성점수 엑셀 파일\n",
    "    positive, negative = analysis.update_score(positive, negative, sentiment_result) \n",
    "    # 감성점수를 이용하여, 감성사전 score를 업데이트한다.(sentiment.xlsx가 업데이트 됨)\n",
    "    \n",
    "    # 감성사전을 이용하여 감성분석을 진행\n",
    "    sentiment = pd.read_excel('sentiment.xlsx')\n",
    "    analysis.sentiment_analysis(sentiment, mapping_most_related)\n",
    "    # 업데이트된 감성 점수를 이용하여 감성분석을 다시 진행한다."
   ]
  },
  {
   "cell_type": "markdown",
   "metadata": {},
   "source": [
    "- 추출한 감성점수를 정규분포를 이용하여 percentage로 나타내기"
   ]
  },
  {
   "cell_type": "code",
   "execution_count": null,
   "metadata": {},
   "outputs": [],
   "source": [
    "score = pd.read_excel('sentiment_result.xlsx') # 감성분석 결과 가져오기\n",
    "\n",
    "# 정규화\n",
    "temp = np.array(score[1])\n",
    "temp = StandardScaler().fit_transform(temp.reshape(-1,1))\n",
    "\n",
    "# 정규분포 누적확률 구하기\n",
    "temp = norm.cdf(temp)*100\n",
    "\n",
    "# 긍정, 부정으로 DataFrame에 집어넣기\n",
    "score[1] = temp\n",
    "score[2] = 100-score[1]\n",
    "score.rename({0:'Word', 1:'Positive', 2:'Negative'}, axis=1, inplace=True)\n",
    "\n",
    "score.to_excel('News_sentiment_result.xlsx') # 저장"
   ]
  },
  {
   "cell_type": "markdown",
   "metadata": {},
   "source": [
    "## 키워드 추출"
   ]
  },
  {
   "cell_type": "code",
   "execution_count": null,
   "metadata": {},
   "outputs": [],
   "source": [
    "import Sentiment\n",
    "import sqlite3\n",
    "import pandas as pd\n",
    "from collections import defaultdict\n",
    "import ast"
   ]
  },
  {
   "cell_type": "markdown",
   "metadata": {},
   "source": [
    "- Data load"
   ]
  },
  {
   "cell_type": "code",
   "execution_count": null,
   "metadata": {},
   "outputs": [],
   "source": [
    "analysis = Sentiment.Sentiment()\n",
    "conn = sqlite3.connect('sent.db')\n",
    "sent = pd.read_sql('SELECT * FROM sent', conn)"
   ]
  },
  {
   "cell_type": "markdown",
   "metadata": {},
   "source": [
    "- most_similar 함수를 이용하여 유사하고 (ktemp), 관련있는 (rtemp) 데이터 가져오기"
   ]
  },
  {
   "cell_type": "code",
   "execution_count": null,
   "metadata": {},
   "outputs": [],
   "source": [
    "ktemp = defaultdict(lambda:0)\n",
    "rtemp = defaultdict(lambda:0)\n",
    "# 모든 신어에 대해서 진행\n",
    "for _ in range(len(sent)):\n",
    "    words = {sent.iloc[_]['index']:1.0} # 각 신어를 하나의 단어로 인식할 수 있도록 dict 생성\n",
    "    keywords = analysis.most_similar(sent.iloc[_]['index'], sent.iloc[_]['0'], words)\n",
    "    ktemp[sent.iloc[_]['index']] = keywords[0] # 유사한 용어\n",
    "    rtemp[sent.iloc[_]['index']] = keywords[1] # 관련있는 용어 (같이 많이 쓰이는 용어)\n",
    "pd.DataFrame.from_dict(ktemp, orient='index').to_excel('keyword.xlsx') # excel로 저장\n",
    "pd.DataFrame.from_dict(rtemp, orient='index').to_excel('rkeyword.xlsx') # excel로 저장"
   ]
  },
  {
   "cell_type": "markdown",
   "metadata": {},
   "source": [
    "- 위에서 생성한 Data를 이용하여, 가장 관련있는 Keyword 5개 뽑기"
   ]
  },
  {
   "cell_type": "code",
   "execution_count": null,
   "metadata": {},
   "outputs": [],
   "source": [
    "# Data load\n",
    "keyword = pd.read_excel('keyword.xlsx')\n",
    "rkeyword = pd.read_excel('rkeyword.xlsx')\n",
    "df = pd.merge(keyword, rkeyword, on='Unnamed: 0')\n",
    "\n",
    "key = defaultdict(lambda:0)\n",
    "# 신어 : 연관키워드 쌍의 Dictionary 형태로 변환\n",
    "for i in range(len(df)):\n",
    "    temp = [j for j in df.iloc[i,:] if type(j) == str]\n",
    "    key[temp[0]] = temp[1:]\n",
    "    \n",
    "# 그 중 점수가 가장 높은 5개 추출\n",
    "for k,v in key.items():\n",
    "    temp = [ast.literal_eval(_) for _ in v]\n",
    "    temp = sorted(temp, key=lambda _:_[-1], reverse=True)\n",
    "    while len(temp) > 5:\n",
    "        temp.pop(-1)\n",
    "    key[k] = temp\n",
    "\n",
    "pd.DataFrame.from_dict(key, orient='index').to_excel('key.xlsx') # key.xlsx에 결과 저장"
   ]
  }
 ],
 "metadata": {
  "kernelspec": {
   "display_name": "Python 3",
   "language": "python",
   "name": "python3"
  },
  "language_info": {
   "codemirror_mode": {
    "name": "ipython",
    "version": 3
   },
   "file_extension": ".py",
   "mimetype": "text/x-python",
   "name": "python",
   "nbconvert_exporter": "python",
   "pygments_lexer": "ipython3",
   "version": "3.7.6"
  }
 },
 "nbformat": 4,
 "nbformat_minor": 4
}
