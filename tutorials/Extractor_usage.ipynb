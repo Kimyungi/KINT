{
 "cells": [
  {
   "cell_type": "markdown",
   "metadata": {},
   "source": [
    "# 신어후보 추출 Extractor.py 사용법"
   ]
  },
  {
   "cell_type": "code",
   "execution_count": null,
   "metadata": {},
   "outputs": [],
   "source": [
    "import Extractor # Extractor 모듈 import\n",
    "import pandas as pd\n",
    "import sqlite3"
   ]
  },
  {
   "cell_type": "code",
   "execution_count": null,
   "metadata": {},
   "outputs": [],
   "source": [
    "conn = sqlite3.connect('News.db') # 신어후보를 추출하고자 하는 db선택 News.db뿐만 아니라 Ent.db, HP.db가 있음\n",
    "cur = conn.cursor()\n",
    "df = pd.read_sql('SELECT head FROM head ORDER BY wdate DESC',conn) # db를 Dataframe으로 저장\n",
    "conn.close()\n",
    "df.drop_duplicates(keep='first', inplace=True) # 중복 게시글 제거\n",
    "\n",
    "\n",
    "ext = Extractor.Ext(df) # Extractor 모듈 인스턴스 생성\n",
    "df = ext.cleaning() # 불용어 처리\n",
    "\n",
    "new_words = ext.search_dict(sorted(ext.extract_nouns().items(),key=lambda _:_[1], reverse=True)) \n",
    "# extract_nouns에서 1차 신어후보를 찾고 search_dict에서 사전에 없는 단어를 추출하여 2차 신어후보 추출\n",
    "\n",
    "sent = ext.extract_sent(new_words)\n",
    "# 신어후보 단어가 들어가 있는 문장 추출"
   ]
  },
  {
   "cell_type": "code",
   "execution_count": null,
   "metadata": {},
   "outputs": [],
   "source": [
    "# 감성분석에 필요한 변수 생성\n",
    "statistic = ext.extract_statistic_value(sent)\n",
    "# 위에서 신어후보가 들어가있는 문장을 추출하고 추출한 문장에서 감성분석에 필요한 8가지 변수 추출\n",
    "\n",
    "r_rat = ext.extract_r_rat(sent,statistic)\n",
    "# (신어후보의 오른쪽에 ~들이 붙은 비율 / 신어후보의 오른쪽에 그 외의 조사가 붙은 비율 / 신어후보의 오른쪽에 white space가 붙은 비율)\n",
    "# 위 3가지 변수 추출\n",
    "\n",
    "statistic = ext.combine_var(statistic, r_rat)\n",
    "# statistic에서 추출한 8가지 변수와 r_rat에서 추출한 3가지 변수를 합쳐서 11개 변수 생성\n",
    "\n",
    "conn = sqlite3.connect('News_var.db') \n",
    "statistic.to_sql('var', conn)\n",
    "# 11개 변수를 저장할 db 생성하여 저장"
   ]
  }
 ],
 "metadata": {
  "kernelspec": {
   "display_name": "Python 3",
   "language": "python",
   "name": "python3"
  },
  "language_info": {
   "codemirror_mode": {
    "name": "ipython",
    "version": 3
   },
   "file_extension": ".py",
   "mimetype": "text/x-python",
   "name": "python",
   "nbconvert_exporter": "python",
   "pygments_lexer": "ipython3",
   "version": "3.8.3"
  }
 },
 "nbformat": 4,
 "nbformat_minor": 4
}
