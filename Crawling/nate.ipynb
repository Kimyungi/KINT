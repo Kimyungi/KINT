{
 "cells": [
  {
   "cell_type": "markdown",
   "metadata": {},
   "source": [
    "nate 10대이야기"
   ]
  },
  {
   "cell_type": "code",
   "execution_count": 931,
   "metadata": {},
   "outputs": [],
   "source": [
    "from io import StringIO  \n",
    "from requests import request\n",
    "from requests.compat import urljoin, urlparse\n",
    "from requests.exceptions import HTTPError\n",
    "from urllib.robotparser import RobotFileParser\n",
    "from bs4 import BeautifulSoup\n",
    "from time import sleep\n",
    "import re\n",
    "import sqlite3\n",
    "import numpy as np\n",
    "from requests import Session\n",
    "from collections import defaultdict\n",
    "from konlpy.corpus import kolaw\n",
    "from math import log\n",
    "from nltk.tokenize import sent_tokenize\n",
    "from nltk.tokenize import word_tokenize\n",
    "from nltk.tokenize import TweetTokenizer\n",
    "from nltk.tokenize import regexp_tokenize\n",
    "import nltk\n",
    "from nltk.tag import pos_tag"
   ]
  },
  {
   "cell_type": "code",
   "execution_count": null,
   "metadata": {},
   "outputs": [],
   "source": [
    "conn = sqlite3.connect('nate10.db')\n",
    "cur = conn.cursor()\n",
    "cur.execute('''\n",
    "    CREATE TABLE nate10(\n",
    "        pk INTEGER PRIMARY KEY AUTOINCREMENT NOT NULL,\n",
    "        url TEXT NOT NULL,\n",
    "        head TEXT NOT NULL,\n",
    "        body TEXT NOT NULL,\n",
    "        comment TEXT NOT NULL,\n",
    "        date INTEGER NOT NULL\n",
    "    );\n",
    "''')\n",
    "\n",
    "conn.commit()"
   ]
  },
  {
   "cell_type": "code",
   "execution_count": null,
   "metadata": {
    "scrolled": false
   },
   "outputs": [],
   "source": [
    "url = 'https://pann.nate.com/talk/c20038'\n",
    "session = Session()\n",
    "\n",
    "urls = list()\n",
    "seen = list()\n",
    "\n",
    "urls.append(url)\n",
    "\n",
    "count = 0\n",
    "\n",
    "while urls:\n",
    "    count += 1\n",
    "    seed = urls.pop(0)\n",
    "\n",
    "    resp = session.request('GET', seed)\n",
    "    dom = BeautifulSoup(resp.text, 'lxml')\n",
    "    time.sleep(0.02)\n",
    "    seen.append(seed)\n",
    "\n",
    "    for _ in [_['href'] for _ in dom.select('td.subject > a, #searchDiv > div.posting_wrap > div > a')\n",
    "              if _.has_attr('href')]:\n",
    "        newUrls = urljoin(seed, _)\n",
    "        if newUrls not in urls and newUrls not in seen:\n",
    "            urls.append(newUrls)\n",
    "    if dom.select_one('#container > div.content.sub > div.viewarea > div.view-wrap > div.post-tit-info > h4') != None :\n",
    "        head = str(dom.select_one('#container > div.content.sub > div.viewarea > div.view-wrap > div.post-tit-info > h4').text.strip())\n",
    "        body = str(dom.select_one('td:nth-of-type(1)').text.strip())\n",
    "        comments = str([_.text.strip() for _ in dom.select('.usertxt')])\n",
    "        date = dom.select_one('.date').string\n",
    "    \n",
    "        cur.execute('''\n",
    "            INSERT INTO nate10(url, head, body, comment, date) VALUES(?,?,?,?,?)''', [seed, head, body, comments, date])\n",
    "        conn.commit()\n",
    "        \n",
    "    if count % 100 == 0:\n",
    "        print(count)"
   ]
  },
  {
   "cell_type": "code",
   "execution_count": 950,
   "metadata": {},
   "outputs": [],
   "source": [
    "데이터 수집 중단된 후 처리방법\n",
    "\n",
    "url = 'https://pann.nate.com/talk/353169758?page=1'\n",
    "정규식으로 정리 후 ? 앞의 숫자만 남기기\n",
    "1) 반복문에서 이 숫자+1 값 계속 가져오기\n",
    "finalurl = 'https://pann.nate.com/talk/353129518?page=411'\n",
    "2) 반복문에서 마지막 실행된 숫자-1 값 계속 가져오기\n",
    "\n",
    "1)2) 과정 중 none값 발생시 다음 순서로 넘기기"
   ]
  },
  {
   "cell_type": "code",
   "execution_count": null,
   "metadata": {},
   "outputs": [],
   "source": [
    "nate 20대이야기"
   ]
  },
  {
   "cell_type": "code",
   "execution_count": null,
   "metadata": {},
   "outputs": [],
   "source": [
    "conn = sqlite3.connect('nate10.db')\n",
    "cur = conn.cursor()\n",
    "cur.execute('''\n",
    "    CREATE TABLE nate20(\n",
    "        pk INTEGER PRIMARY KEY AUTOINCREMENT NOT NULL,\n",
    "        url TEXT NOT NULL,\n",
    "        head TEXT NOT NULL,\n",
    "        body TEXT NOT NULL,\n",
    "        comment TEXT NOT NULL,\n",
    "        date INTEGER NOT NULL\n",
    "    );\n",
    "''')\n",
    "\n",
    "conn.commit()"
   ]
  },
  {
   "cell_type": "code",
   "execution_count": null,
   "metadata": {},
   "outputs": [],
   "source": [
    "url = 'https://pann.nate.com/talk/c20002'\n",
    "session = Session()\n",
    "\n",
    "urls = list()\n",
    "seen = list()\n",
    "urls.append(url)\n",
    "\n",
    "count = 0\n",
    "\n",
    "while urls:\n",
    "    count += 1\n",
    "    seed = urls.pop(0)\n",
    "    resp = session.request('GET', seed)\n",
    "    dom = BeautifulSoup(resp.text, 'lxml')\n",
    "    time.sleep(0.02)\n",
    "    seen.append(seed)\n",
    "\n",
    "    for _ in [_['href'] for _ in dom.select('td.subject > a, #searchDiv > div.posting_wrap > div > a')\n",
    "              if _.has_attr('href')]:\n",
    "        newUrls = urljoin(seed, _)\n",
    "        if newUrls not in urls and newUrls not in seen:\n",
    "            urls.append(newUrls)\n",
    "    if dom.select_one('#container > div.content.sub > div.viewarea > div.view-wrap > div.post-tit-info > h4') != None :\n",
    "        head = str(dom.select_one('#container > div.content.sub > div.viewarea > div.view-wrap > div.post-tit-info > h4').text.strip())\n",
    "        body = str(dom.select_one('td:nth-of-type(1)').text.strip())\n",
    "        comments = str([_.text.strip() for _ in dom.select('.usertxt')])\n",
    "        date = dom.select_one('.date').string\n",
    "    \n",
    "        cur.execute('''\n",
    "            INSERT INTO nate20(url, head, body, comment, date) VALUES(?,?,?,?,?)''', [seed, head, body, comments, date])\n",
    "        conn.commit()\n",
    "        \n",
    "    if count % 100 == 0:\n",
    "        print(count)"
   ]
  }
 ],
 "metadata": {
  "kernelspec": {
   "display_name": "Python 3",
   "language": "python",
   "name": "python3"
  },
  "language_info": {
   "codemirror_mode": {
    "name": "ipython",
    "version": 3
   },
   "file_extension": ".py",
   "mimetype": "text/x-python",
   "name": "python",
   "nbconvert_exporter": "python",
   "pygments_lexer": "ipython3",
   "version": "3.7.6"
  }
 },
 "nbformat": 4,
 "nbformat_minor": 4
}
